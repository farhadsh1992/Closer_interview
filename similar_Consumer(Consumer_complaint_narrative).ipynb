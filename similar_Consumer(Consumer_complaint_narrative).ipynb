{
 "cells": [
  {
   "cell_type": "code",
   "execution_count": null,
   "metadata": {},
   "outputs": [],
   "source": []
  },
  {
   "cell_type": "code",
   "execution_count": null,
   "metadata": {},
   "outputs": [],
   "source": []
  },
  {
   "cell_type": "markdown",
   "metadata": {},
   "source": [
    "# Just for Consumer_complaint_narrative"
   ]
  },
  {
   "cell_type": "code",
   "execution_count": 113,
   "metadata": {},
   "outputs": [],
   "source": [
    "import pandas as pd\n",
    "import numpy as np\n",
    "from datetime import datetime\n",
    "\n",
    "from nltk import word_tokenize \n",
    "\n",
    "from farhad.TextTalent import plot_frequency_distribution_of_ngrams, plot_sample_length_distribution \n",
    "from wordcloud import WordCloud\n",
    "from dask import delayed\n",
    "\n",
    "\n",
    "from package.TextEditor import EstimateFaster\n",
    "from package.TextEditor import Remove_stop_words\n",
    "from package.TextEditor import List_cleaner\n",
    "\n",
    "import seaborn as sns\n",
    "import matplotlib.pyplot as plt\n",
    "import warnings\n",
    "%matplotlib inline"
   ]
  },
  {
   "cell_type": "code",
   "execution_count": null,
   "metadata": {},
   "outputs": [],
   "source": []
  },
  {
   "cell_type": "code",
   "execution_count": 97,
   "metadata": {},
   "outputs": [],
   "source": [
    "df_data = pd.read_csv('data/complains_data.csv')\n",
    "df_data.columns =['Date_received','Product', 'Sub_product', 'Issue', 'Sub_issue',\n",
    "       'Consumer_complaint_narrative', 'Company_public_response', 'Company',\n",
    "       'State', 'ZIP_code', 'Submitted_via', 'Date_sent_to_company','Company_response_to_consumer',\n",
    "       'Complaint_ID']"
   ]
  },
  {
   "cell_type": "code",
   "execution_count": 3,
   "metadata": {},
   "outputs": [
    {
     "data": {
      "text/html": [
       "<div>\n",
       "<style scoped>\n",
       "    .dataframe tbody tr th:only-of-type {\n",
       "        vertical-align: middle;\n",
       "    }\n",
       "\n",
       "    .dataframe tbody tr th {\n",
       "        vertical-align: top;\n",
       "    }\n",
       "\n",
       "    .dataframe thead th {\n",
       "        text-align: right;\n",
       "    }\n",
       "</style>\n",
       "<table border=\"1\" class=\"dataframe\">\n",
       "  <thead>\n",
       "    <tr style=\"text-align: right;\">\n",
       "      <th></th>\n",
       "      <th>Date_received</th>\n",
       "      <th>Product</th>\n",
       "      <th>Sub_product</th>\n",
       "      <th>Issue</th>\n",
       "      <th>Sub_issue</th>\n",
       "      <th>Consumer_complaint_narrative</th>\n",
       "      <th>Company_public_response</th>\n",
       "      <th>Company</th>\n",
       "      <th>State</th>\n",
       "      <th>ZIP_code</th>\n",
       "      <th>Submitted_via</th>\n",
       "      <th>Date_sent_to_company</th>\n",
       "      <th>Company_response_to_consumer</th>\n",
       "      <th>Complaint_ID</th>\n",
       "    </tr>\n",
       "  </thead>\n",
       "  <tbody>\n",
       "    <tr>\n",
       "      <th>0</th>\n",
       "      <td>10/01/2016</td>\n",
       "      <td>Credit reporting</td>\n",
       "      <td>NaN</td>\n",
       "      <td>Incorrect information on credit report</td>\n",
       "      <td>Account status</td>\n",
       "      <td>I have outdated information on my credit repor...</td>\n",
       "      <td>Company has responded to the consumer and the ...</td>\n",
       "      <td>TRANSUNION INTERMEDIATE HOLDINGS, INC.</td>\n",
       "      <td>AL</td>\n",
       "      <td>352XX</td>\n",
       "      <td>Web</td>\n",
       "      <td>10/05/2016</td>\n",
       "      <td>Closed with explanation</td>\n",
       "      <td>2141773</td>\n",
       "    </tr>\n",
       "    <tr>\n",
       "      <th>1</th>\n",
       "      <td>10/17/2016</td>\n",
       "      <td>Consumer Loan</td>\n",
       "      <td>Vehicle loan</td>\n",
       "      <td>Managing the loan or lease</td>\n",
       "      <td>NaN</td>\n",
       "      <td>I purchased a new car on XXXX XXXX. The car de...</td>\n",
       "      <td>NaN</td>\n",
       "      <td>CITIZENS FINANCIAL GROUP, INC.</td>\n",
       "      <td>PA</td>\n",
       "      <td>177XX</td>\n",
       "      <td>Web</td>\n",
       "      <td>10/20/2016</td>\n",
       "      <td>Closed with explanation</td>\n",
       "      <td>2163100</td>\n",
       "    </tr>\n",
       "  </tbody>\n",
       "</table>\n",
       "</div>"
      ],
      "text/plain": [
       "  Date_received           Product   Sub_product  \\\n",
       "0    10/01/2016  Credit reporting           NaN   \n",
       "1    10/17/2016     Consumer Loan  Vehicle loan   \n",
       "\n",
       "                                    Issue       Sub_issue  \\\n",
       "0  Incorrect information on credit report  Account status   \n",
       "1              Managing the loan or lease             NaN   \n",
       "\n",
       "                        Consumer_complaint_narrative  \\\n",
       "0  I have outdated information on my credit repor...   \n",
       "1  I purchased a new car on XXXX XXXX. The car de...   \n",
       "\n",
       "                             Company_public_response  \\\n",
       "0  Company has responded to the consumer and the ...   \n",
       "1                                                NaN   \n",
       "\n",
       "                                  Company State ZIP_code Submitted_via  \\\n",
       "0  TRANSUNION INTERMEDIATE HOLDINGS, INC.    AL    352XX           Web   \n",
       "1          CITIZENS FINANCIAL GROUP, INC.    PA    177XX           Web   \n",
       "\n",
       "  Date_sent_to_company Company_response_to_consumer  Complaint_ID  \n",
       "0           10/05/2016      Closed with explanation       2141773  \n",
       "1           10/20/2016      Closed with explanation       2163100  "
      ]
     },
     "execution_count": 3,
     "metadata": {},
     "output_type": "execute_result"
    }
   ],
   "source": [
    "df_data.head(2)"
   ]
  },
  {
   "cell_type": "code",
   "execution_count": 4,
   "metadata": {},
   "outputs": [],
   "source": [
    "df = pd.DataFrame()\n",
    "df[['Complaint_ID','Consumer']] = df_data[['Complaint_ID','Consumer_complaint_narrative']]"
   ]
  },
  {
   "cell_type": "code",
   "execution_count": null,
   "metadata": {},
   "outputs": [],
   "source": []
  },
  {
   "cell_type": "code",
   "execution_count": 7,
   "metadata": {},
   "outputs": [
    {
     "data": {
      "image/png": "[encoded data removed]",
      "text/plain": [
       "<Figure size 1080x504 with 1 Axes>"
      ]
     },
     "metadata": {
      "needs_background": "light"
     },
     "output_type": "display_data"
    }
   ],
   "source": [
    "plt.figure(figsize=(15,7))\n",
    "plot_sample_length_distribution(df.Consumer)"
   ]
  },
  {
   "cell_type": "code",
   "execution_count": 112,
   "metadata": {},
   "outputs": [
    {
     "data": {
      "image/png": "[encoded data removed]",
      "text/plain": [
       "<Figure size 1080x504 with 1 Axes>"
      ]
     },
     "metadata": {
      "needs_background": "light"
     },
     "output_type": "display_data"
    }
   ],
   "source": [
    "plt.figure(figsize=(15,7))\n",
    "plot_frequency_distribution_of_ngrams(df['Consumer'],ngram_range=(1, 2),\n",
    "                                      num_ngrams=40,title='(before_clean)Frequency distribution of n-grams')"
   ]
  },
  {
   "cell_type": "markdown",
   "metadata": {},
   "source": [
    "# Let's start to clean"
   ]
  },
  {
   "cell_type": "code",
   "execution_count": 5,
   "metadata": {},
   "outputs": [
    {
     "name": "stdout",
     "output_type": "stream",
     "text": [
      "[272657/272657][Clean every text]-- Done! --\n",
      "[272657/272657][Remove stop_words]*** Done! ***\n",
      "CPU times: user 10min 3s, sys: 32.8 s, total: 10min 35s\n",
      "Wall time: 10min 34s\n"
     ]
    }
   ],
   "source": [
    "%%time\n",
    "texts = delayed(List_cleaner)(df.Consumer)\n",
    "texts = delayed(Remove_stop_words)(texts)\n",
    "df['clean_Consumer'] = texts.compute()"
   ]
  },
  {
   "cell_type": "code",
   "execution_count": 6,
   "metadata": {},
   "outputs": [
    {
     "data": {
      "text/html": [
       "<div>\n",
       "<style scoped>\n",
       "    .dataframe tbody tr th:only-of-type {\n",
       "        vertical-align: middle;\n",
       "    }\n",
       "\n",
       "    .dataframe tbody tr th {\n",
       "        vertical-align: top;\n",
       "    }\n",
       "\n",
       "    .dataframe thead th {\n",
       "        text-align: right;\n",
       "    }\n",
       "</style>\n",
       "<table border=\"1\" class=\"dataframe\">\n",
       "  <thead>\n",
       "    <tr style=\"text-align: right;\">\n",
       "      <th></th>\n",
       "      <th>Complaint_ID</th>\n",
       "      <th>Consumer</th>\n",
       "      <th>clean_Consumer</th>\n",
       "    </tr>\n",
       "  </thead>\n",
       "  <tbody>\n",
       "    <tr>\n",
       "      <th>0</th>\n",
       "      <td>2141773</td>\n",
       "      <td>I have outdated information on my credit repor...</td>\n",
       "      <td>outdated information credit report previously ...</td>\n",
       "    </tr>\n",
       "    <tr>\n",
       "      <th>1</th>\n",
       "      <td>2163100</td>\n",
       "      <td>I purchased a new car on XXXX XXXX. The car de...</td>\n",
       "      <td>purchased new car card number car dealer calle...</td>\n",
       "    </tr>\n",
       "    <tr>\n",
       "      <th>2</th>\n",
       "      <td>1420702</td>\n",
       "      <td>An account on my credit report has a mistaken ...</td>\n",
       "      <td>account credit report mistaken date mailed deb...</td>\n",
       "    </tr>\n",
       "    <tr>\n",
       "      <th>3</th>\n",
       "      <td>1772196</td>\n",
       "      <td>This company refuses to provide me verificatio...</td>\n",
       "      <td>company refuses provide verification validatio...</td>\n",
       "    </tr>\n",
       "    <tr>\n",
       "      <th>4</th>\n",
       "      <td>1790634</td>\n",
       "      <td>This complaint is in regards to Square Two Fin...</td>\n",
       "      <td>complaint regards square two financial refer c...</td>\n",
       "    </tr>\n",
       "  </tbody>\n",
       "</table>\n",
       "</div>"
      ],
      "text/plain": [
       "   Complaint_ID                                           Consumer  \\\n",
       "0       2141773  I have outdated information on my credit repor...   \n",
       "1       2163100  I purchased a new car on XXXX XXXX. The car de...   \n",
       "2       1420702  An account on my credit report has a mistaken ...   \n",
       "3       1772196  This company refuses to provide me verificatio...   \n",
       "4       1790634  This complaint is in regards to Square Two Fin...   \n",
       "\n",
       "                                      clean_Consumer  \n",
       "0  outdated information credit report previously ...  \n",
       "1  purchased new car card number car dealer calle...  \n",
       "2  account credit report mistaken date mailed deb...  \n",
       "3  company refuses provide verification validatio...  \n",
       "4  complaint regards square two financial refer c...  "
      ]
     },
     "execution_count": 6,
     "metadata": {},
     "output_type": "execute_result"
    }
   ],
   "source": [
    "df.head()"
   ]
  },
  {
   "cell_type": "code",
   "execution_count": null,
   "metadata": {},
   "outputs": [],
   "source": [
    "plt.figure(figsize=(15,7))\n",
    "plot_frequency_distribution_of_ngrams(df['clean_Consumer'],ngram_range=(1, 2),\n",
    "                                      num_ngrams=40, title='(after_clean)frequency distribution of n-grams')"
   ]
  },
  {
   "cell_type": "code",
   "execution_count": 3,
   "metadata": {},
   "outputs": [],
   "source": [
    "#from nltk.corpus import stopwords\n",
    "#print(stopwords.words('english'))"
   ]
  },
  {
   "cell_type": "code",
   "execution_count": 31,
   "metadata": {},
   "outputs": [],
   "source": [
    "def remove_words_for_Consumer_complaint_narrative(df,target='clean_Consumer'):\n",
    "    remove_list = ['never','would','also']\n",
    "    newlist3 = []\n",
    "    for text_list in df[target]:\n",
    "        new_list = word_tokenize(str(text_list))\n",
    "        newlist2 = [x for x in new_list if x not in remove_list ]\n",
    "        newlist3.append(\" \".join(newlist2[:]))\n",
    "    return newlist3\n",
    "df['clean_Consumer'] = remove_words_for_Consumer_complaint_narrative(df,target='clean_Consumer')\n",
    "\n",
    "#new = df[['clean_Consumer']].apply(remove_words_for_Consumer_complaint_narrative)"
   ]
  },
  {
   "cell_type": "code",
   "execution_count": 103,
   "metadata": {},
   "outputs": [
    {
     "data": {
      "text/html": [
       "<div>\n",
       "<style scoped>\n",
       "    .dataframe tbody tr th:only-of-type {\n",
       "        vertical-align: middle;\n",
       "    }\n",
       "\n",
       "    .dataframe tbody tr th {\n",
       "        vertical-align: top;\n",
       "    }\n",
       "\n",
       "    .dataframe thead th {\n",
       "        text-align: right;\n",
       "    }\n",
       "</style>\n",
       "<table border=\"1\" class=\"dataframe\">\n",
       "  <thead>\n",
       "    <tr style=\"text-align: right;\">\n",
       "      <th></th>\n",
       "      <th>Complaint_ID</th>\n",
       "      <th>Consumer</th>\n",
       "      <th>clean_Consumer</th>\n",
       "    </tr>\n",
       "  </thead>\n",
       "  <tbody>\n",
       "    <tr>\n",
       "      <th>0</th>\n",
       "      <td>2141773</td>\n",
       "      <td>I have outdated information on my credit repor...</td>\n",
       "      <td>outdated information credit report previously ...</td>\n",
       "    </tr>\n",
       "    <tr>\n",
       "      <th>1</th>\n",
       "      <td>2163100</td>\n",
       "      <td>I purchased a new car on XXXX XXXX. The car de...</td>\n",
       "      <td>purchased new car card number car dealer calle...</td>\n",
       "    </tr>\n",
       "    <tr>\n",
       "      <th>2</th>\n",
       "      <td>1420702</td>\n",
       "      <td>An account on my credit report has a mistaken ...</td>\n",
       "      <td>account credit report mistaken date mailed deb...</td>\n",
       "    </tr>\n",
       "    <tr>\n",
       "      <th>3</th>\n",
       "      <td>1772196</td>\n",
       "      <td>This company refuses to provide me verificatio...</td>\n",
       "      <td>company refuses provide verification validatio...</td>\n",
       "    </tr>\n",
       "    <tr>\n",
       "      <th>4</th>\n",
       "      <td>1790634</td>\n",
       "      <td>This complaint is in regards to Square Two Fin...</td>\n",
       "      <td>complaint regards square two financial refer c...</td>\n",
       "    </tr>\n",
       "  </tbody>\n",
       "</table>\n",
       "</div>"
      ],
      "text/plain": [
       "   Complaint_ID                                           Consumer  \\\n",
       "0       2141773  I have outdated information on my credit repor...   \n",
       "1       2163100  I purchased a new car on XXXX XXXX. The car de...   \n",
       "2       1420702  An account on my credit report has a mistaken ...   \n",
       "3       1772196  This company refuses to provide me verificatio...   \n",
       "4       1790634  This complaint is in regards to Square Two Fin...   \n",
       "\n",
       "                                      clean_Consumer  \n",
       "0  outdated information credit report previously ...  \n",
       "1  purchased new car card number car dealer calle...  \n",
       "2  account credit report mistaken date mailed deb...  \n",
       "3  company refuses provide verification validatio...  \n",
       "4  complaint regards square two financial refer c...  "
      ]
     },
     "execution_count": 103,
     "metadata": {},
     "output_type": "execute_result"
    }
   ],
   "source": [
    "df.head()"
   ]
  },
  {
   "cell_type": "code",
   "execution_count": 106,
   "metadata": {},
   "outputs": [
    {
     "data": {
      "text/plain": [
       "<Figure size 1080x504 with 0 Axes>"
      ]
     },
     "execution_count": 106,
     "metadata": {},
     "output_type": "execute_result"
    },
    {
     "data": {
      "text/plain": [
       "<Figure size 1080x504 with 0 Axes>"
      ]
     },
     "metadata": {},
     "output_type": "display_data"
    }
   ],
   "source": [
    "plt.figure(figsize=(15,7))\n",
    "plot_frequency_distribution_of_ngrams(df['clean_Consumer'] ,\n",
    "                                      ngram_range=(1, 2),\n",
    "                                      num_ngrams=40, \n",
    "                                      title='(after_clean) frequency distribution of bi-grams ')"
   ]
  },
  {
   "cell_type": "code",
   "execution_count": 10,
   "metadata": {},
   "outputs": [],
   "source": [
    "wordcloud = WordCloud(width=1600, height=800,max_font_size=200).generate(str(df['clean_Consumer']))"
   ]
  },
  {
   "cell_type": "code",
   "execution_count": 11,
   "metadata": {},
   "outputs": [
    {
     "data": {
      "image/png": "[encoded data removed]",
      "text/plain": [
       "<Figure size 864x720 with 1 Axes>"
      ]
     },
     "metadata": {
      "needs_background": "light"
     },
     "output_type": "display_data"
    }
   ],
   "source": [
    "plt.figure(figsize=(12,10))\n",
    "plt.imshow(wordcloud)\n",
    "plt.axis(\"off\")\n",
    "plt.show()"
   ]
  },
  {
   "cell_type": "code",
   "execution_count": 12,
   "metadata": {},
   "outputs": [
    {
     "data": {
      "text/html": [
       "<div>\n",
       "<style scoped>\n",
       "    .dataframe tbody tr th:only-of-type {\n",
       "        vertical-align: middle;\n",
       "    }\n",
       "\n",
       "    .dataframe tbody tr th {\n",
       "        vertical-align: top;\n",
       "    }\n",
       "\n",
       "    .dataframe thead th {\n",
       "        text-align: right;\n",
       "    }\n",
       "</style>\n",
       "<table border=\"1\" class=\"dataframe\">\n",
       "  <thead>\n",
       "    <tr style=\"text-align: right;\">\n",
       "      <th></th>\n",
       "      <th>Complaint_ID</th>\n",
       "      <th>Consumer</th>\n",
       "      <th>clean_Consumer</th>\n",
       "    </tr>\n",
       "  </thead>\n",
       "  <tbody>\n",
       "    <tr>\n",
       "      <th>0</th>\n",
       "      <td>2141773</td>\n",
       "      <td>I have outdated information on my credit repor...</td>\n",
       "      <td>outdated information credit report previously ...</td>\n",
       "    </tr>\n",
       "    <tr>\n",
       "      <th>1</th>\n",
       "      <td>2163100</td>\n",
       "      <td>I purchased a new car on XXXX XXXX. The car de...</td>\n",
       "      <td>purchased new car card number car dealer calle...</td>\n",
       "    </tr>\n",
       "    <tr>\n",
       "      <th>2</th>\n",
       "      <td>1420702</td>\n",
       "      <td>An account on my credit report has a mistaken ...</td>\n",
       "      <td>account credit report mistaken date mailed deb...</td>\n",
       "    </tr>\n",
       "    <tr>\n",
       "      <th>3</th>\n",
       "      <td>1772196</td>\n",
       "      <td>This company refuses to provide me verificatio...</td>\n",
       "      <td>company refuses provide verification validatio...</td>\n",
       "    </tr>\n",
       "    <tr>\n",
       "      <th>4</th>\n",
       "      <td>1790634</td>\n",
       "      <td>This complaint is in regards to Square Two Fin...</td>\n",
       "      <td>complaint regards square two financial refer c...</td>\n",
       "    </tr>\n",
       "  </tbody>\n",
       "</table>\n",
       "</div>"
      ],
      "text/plain": [
       "   Complaint_ID                                           Consumer  \\\n",
       "0       2141773  I have outdated information on my credit repor...   \n",
       "1       2163100  I purchased a new car on XXXX XXXX. The car de...   \n",
       "2       1420702  An account on my credit report has a mistaken ...   \n",
       "3       1772196  This company refuses to provide me verificatio...   \n",
       "4       1790634  This complaint is in regards to Square Two Fin...   \n",
       "\n",
       "                                      clean_Consumer  \n",
       "0  outdated information credit report previously ...  \n",
       "1  purchased new car card number car dealer calle...  \n",
       "2  account credit report mistaken date mailed deb...  \n",
       "3  company refuses provide verification validatio...  \n",
       "4  complaint regards square two financial refer c...  "
      ]
     },
     "execution_count": 12,
     "metadata": {},
     "output_type": "execute_result"
    }
   ],
   "source": [
    "df.head()"
   ]
  },
  {
   "cell_type": "code",
   "execution_count": 109,
   "metadata": {},
   "outputs": [],
   "source": [
    "df['Date_received'] = df_data['Date_received']\n",
    "df.to_csv('data/Clean_Company_public_response.csv', index=False)"
   ]
  },
  {
   "cell_type": "code",
   "execution_count": 108,
   "metadata": {},
   "outputs": [],
   "source": []
  },
  {
   "cell_type": "code",
   "execution_count": null,
   "metadata": {},
   "outputs": [],
   "source": []
  },
  {
   "cell_type": "markdown",
   "metadata": {},
   "source": [
    "# Used LDA and  Lsi and  Hdp  classfication"
   ]
  },
  {
   "cell_type": "code",
   "execution_count": 6,
   "metadata": {},
   "outputs": [
    {
     "data": {
      "text/html": [
       "<div>\n",
       "<style scoped>\n",
       "    .dataframe tbody tr th:only-of-type {\n",
       "        vertical-align: middle;\n",
       "    }\n",
       "\n",
       "    .dataframe tbody tr th {\n",
       "        vertical-align: top;\n",
       "    }\n",
       "\n",
       "    .dataframe thead th {\n",
       "        text-align: right;\n",
       "    }\n",
       "</style>\n",
       "<table border=\"1\" class=\"dataframe\">\n",
       "  <thead>\n",
       "    <tr style=\"text-align: right;\">\n",
       "      <th></th>\n",
       "      <th>Complaint_ID</th>\n",
       "      <th>Consumer</th>\n",
       "      <th>clean_Consumer</th>\n",
       "    </tr>\n",
       "  </thead>\n",
       "  <tbody>\n",
       "    <tr>\n",
       "      <th>0</th>\n",
       "      <td>2141773</td>\n",
       "      <td>I have outdated information on my credit repor...</td>\n",
       "      <td>outdated information credit report previously ...</td>\n",
       "    </tr>\n",
       "    <tr>\n",
       "      <th>1</th>\n",
       "      <td>2163100</td>\n",
       "      <td>I purchased a new car on XXXX XXXX. The car de...</td>\n",
       "      <td>purchased new car card number car dealer calle...</td>\n",
       "    </tr>\n",
       "    <tr>\n",
       "      <th>2</th>\n",
       "      <td>1420702</td>\n",
       "      <td>An account on my credit report has a mistaken ...</td>\n",
       "      <td>account credit report mistaken date mailed deb...</td>\n",
       "    </tr>\n",
       "    <tr>\n",
       "      <th>3</th>\n",
       "      <td>1772196</td>\n",
       "      <td>This company refuses to provide me verificatio...</td>\n",
       "      <td>company refuses provide verification validatio...</td>\n",
       "    </tr>\n",
       "    <tr>\n",
       "      <th>4</th>\n",
       "      <td>1790634</td>\n",
       "      <td>This complaint is in regards to Square Two Fin...</td>\n",
       "      <td>complaint regards square two financial refer c...</td>\n",
       "    </tr>\n",
       "  </tbody>\n",
       "</table>\n",
       "</div>"
      ],
      "text/plain": [
       "   Complaint_ID                                           Consumer  \\\n",
       "0       2141773  I have outdated information on my credit repor...   \n",
       "1       2163100  I purchased a new car on XXXX XXXX. The car de...   \n",
       "2       1420702  An account on my credit report has a mistaken ...   \n",
       "3       1772196  This company refuses to provide me verificatio...   \n",
       "4       1790634  This complaint is in regards to Square Two Fin...   \n",
       "\n",
       "                                      clean_Consumer  \n",
       "0  outdated information credit report previously ...  \n",
       "1  purchased new car card number car dealer calle...  \n",
       "2  account credit report mistaken date mailed deb...  \n",
       "3  company refuses provide verification validatio...  \n",
       "4  complaint regards square two financial refer c...  "
      ]
     },
     "execution_count": 6,
     "metadata": {},
     "output_type": "execute_result"
    }
   ],
   "source": [
    "import pandas as pd\n",
    "import warnings\n",
    "warnings.filterwarnings('ignore') \n",
    "\n",
    "df = pd.read_csv('data/Clean_Company_public_response.csv')\n",
    "df.head()"
   ]
  },
  {
   "cell_type": "code",
   "execution_count": 7,
   "metadata": {},
   "outputs": [],
   "source": [
    "from gensim.models import CoherenceModel, LdaModel, LsiModel, HdpModel\n",
    "from gensim.models.wrappers import LdaMallet\n",
    "from gensim.corpora import Dictionary\n",
    "import pyLDAvis.gensim\n",
    "import gensim\n",
    "from dask import delayed\n",
    "import numpy as np\n",
    "from nltk.tokenize import word_tokenize\n",
    "\n",
    "import re \n",
    "import warnings\n",
    "import matplotlib.pyplot as plt\n",
    "import seaborn as sns\n",
    "\n",
    "from package.TextEditor  import EstimateFaster"
   ]
  },
  {
   "cell_type": "code",
   "execution_count": null,
   "metadata": {},
   "outputs": [],
   "source": [
    "#EstimateFaster(num,xlist, description)"
   ]
  },
  {
   "cell_type": "markdown",
   "metadata": {},
   "source": [
    "# Check best model for n_grams:"
   ]
  },
  {
   "cell_type": "code",
   "execution_count": 8,
   "metadata": {},
   "outputs": [
    {
     "name": "stdout",
     "output_type": "stream",
     "text": [
      "CPU times: user 8 µs, sys: 2 µs, total: 10 µs\n",
      "Wall time: 16 µs\n"
     ]
    }
   ],
   "source": [
    "%%time\n",
    "def bag_of_words_for_bigrams(x):\n",
    "    x = word_tokenize(str(x))\n",
    "    return x\n",
    "\n",
    "def bag_of_words_for_Tigrams(x):\n",
    "    x = word_tokenize(str(x))\n",
    "    texts = []\n",
    "    for i in range(len(x)-1):\n",
    "        \n",
    "        texts.append('{} {}'.format(x[i],x[i+1]))\n",
    "    return texts\n",
    "\n",
    "def make_dictionary(list1):\n",
    "    bigram = gensim.models.Phrases(list1)\n",
    "    texts =  [bigram[line] for line in list1]\n",
    "    dictionary = Dictionary(texts)\n",
    "    corpus = [dictionary.doc2bow(text) for text in texts]\n",
    "    \n",
    "    return corpus, dictionary\n",
    "def evaluate_bar_graph(coherences, indices,title):\n",
    "    \"\"\"\n",
    "    Function to plot bar graph.\n",
    "    \n",
    "    coherences: list of coherence values\n",
    "    indices: Indices to be used to mark bars. Length of this and coherences should be equal.\n",
    "    \"\"\"\n",
    "    assert len(coherences) == len(indices)\n",
    "    n = len(coherences)\n",
    "    y = np.arange(n)\n",
    "    #plt.bar(x, coherences, width=0.2, tick_label=indices, align='center')\n",
    "    df = pd.DataFrame({'x':coherences,'y':y})\n",
    "    g = sns.barplot(x='x',y='y', data=df)\n",
    "    plt.xlabel('Models')\n",
    "    #plt.xticks(coherences,('bi_grams', 'tri_grams', 'bitri_grams'))\n",
    "    g.set_xticklabels(indices) \n",
    "    plt.title(title)\n",
    "    plt.ylabel('Coherence Value')"
   ]
  },
  {
   "cell_type": "code",
   "execution_count": null,
   "metadata": {},
   "outputs": [],
   "source": [
    "%%time\n",
    "bigrams = df['clean_Consumer'].apply(bag_of_words_for_bigrams)\n",
    "trigrams = df['clean_Consumer'].apply(bag_of_words_for_Tigrams)\n",
    "bi_Tri_grams = bigrams+trigrams"
   ]
  },
  {
   "cell_type": "code",
   "execution_count": null,
   "metadata": {},
   "outputs": [],
   "source": [
    "%%time\n",
    "warnings.filterwarnings(\"ignore\")\n",
    "\n",
    "corpus_bi, dictionary_bi = make_dictionary(bigrams)\n",
    "corpus_ti, dictionary_ti = make_dictionary(trigrams)\n",
    "corpus_biti, dictionary_biti = make_dictionary(bi_Tri_grams)"
   ]
  },
  {
   "cell_type": "code",
   "execution_count": null,
   "metadata": {},
   "outputs": [],
   "source": []
  },
  {
   "cell_type": "code",
   "execution_count": null,
   "metadata": {},
   "outputs": [],
   "source": [
    "%%time\n",
    "\n",
    "warnings.filterwarnings(\"ignore\")\n",
    "\n",
    "ldamodel_bi = LdaModel(corpus=corpus_bi, \n",
    "                    num_topics=10, id2word=dictionary_bi ,update_every=1, chunksize=100)\n",
    "ldamodel_ti = LdaModel(corpus=corpus_ti, \n",
    "                    num_topics=10, id2word=dictionary_ti);\n",
    "ldamodel_biti = LdaModel(corpus=corpus_biti, \n",
    "                    num_topics=10, id2word=dictionary_biti, passes=25,update_every=1, chunksize=100)"
   ]
  },
  {
   "cell_type": "code",
   "execution_count": null,
   "metadata": {},
   "outputs": [],
   "source": [
    "evaluate_bar_graph([ldamodel_bi , ldamodel_ti, ldamodel_biti],\n",
    "                   ['bi_grams', 'tri_grams', 'bitri_grams'],\"Company_response_to_consumer\")"
   ]
  },
  {
   "cell_type": "code",
   "execution_count": null,
   "metadata": {},
   "outputs": [],
   "source": []
  },
  {
   "cell_type": "markdown",
   "metadata": {},
   "source": [
    "# Check best num_topics models:"
   ]
  },
  {
   "cell_type": "code",
   "execution_count": 10,
   "metadata": {},
   "outputs": [
    {
     "name": "stdout",
     "output_type": "stream",
     "text": [
      "CPU times: user 8 µs, sys: 1e+03 ns, total: 9 µs\n",
      "Wall time: 12.2 µs\n"
     ]
    }
   ],
   "source": [
    "%%time\n",
    "def bag_of_words_for_bigrams(x):\n",
    "    x = word_tokenize(str(x))\n",
    "    return x\n",
    "\n",
    "def bag_of_words_for_Tigrams(x):\n",
    "    x = word_tokenize(str(x))\n",
    "    texts = []\n",
    "    for i in range(len(x)-1):\n",
    "        \n",
    "        texts.append('{} {}'.format(x[i],x[i+1]))\n",
    "    return texts\n",
    "def make_dictionary(list1):\n",
    "    bigram = gensim.models.Phrases(list1)\n",
    "    texts =  [bigram[line] for line in list1]\n",
    "    dictionary = Dictionary(texts)\n",
    "    corpus = [dictionary.doc2bow(text) for text in texts]\n",
    "    \n",
    "    return corpus, dictionary"
   ]
  },
  {
   "cell_type": "code",
   "execution_count": 11,
   "metadata": {},
   "outputs": [
    {
     "name": "stdout",
     "output_type": "stream",
     "text": [
      "CPU times: user 4min 56s, sys: 9.35 s, total: 5min 6s\n",
      "Wall time: 5min 10s\n"
     ]
    }
   ],
   "source": [
    "%%time\n",
    "bigrams = df['clean_Consumer'].apply(bag_of_words_for_bigrams)\n",
    "trigrams = df['clean_Consumer'].apply(bag_of_words_for_Tigrams)\n",
    "bi_Tri_grams = bigrams+trigrams"
   ]
  },
  {
   "cell_type": "code",
   "execution_count": 12,
   "metadata": {},
   "outputs": [
    {
     "name": "stdout",
     "output_type": "stream",
     "text": [
      "CPU times: user 9min 7s, sys: 2min 16s, total: 11min 24s\n",
      "Wall time: 12min 44s\n"
     ]
    }
   ],
   "source": [
    "%%time\n",
    "warnings.filterwarnings(\"ignore\")\n",
    "corpus_biti, dictionary_biti = make_dictionary(bi_Tri_grams)"
   ]
  },
  {
   "cell_type": "code",
   "execution_count": 13,
   "metadata": {},
   "outputs": [],
   "source": [
    "from itertools import chain\n",
    "def find_probability_for_label(ldamodel, corpus):\n",
    "    \n",
    "    \"\"\"\n",
    "    This finctuion extract problitly for every row according to threshold\n",
    "    \n",
    "    \"\"\"\n",
    "    lda_corpus = ldamodel[corpus]\n",
    "    \n",
    "    #find threshold\n",
    "    scores = list(chain(*[[score for topic_id,score in topic] \\\n",
    "                          for topic in [doc for doc in lda_corpus]]))\n",
    "    threshold = sum(scores)/len(scores)\n",
    "    print('threshold for probability:',threshold)\n",
    "    \n",
    "    #extract probability\n",
    "    probabilityL_list, lebal_list = [],[]\n",
    "    for ilab in lda_corpus:\n",
    "        probilityL_list = [ilab[i][1] for i in len(ilab) if  ilab[i][1] > threshold]\n",
    "        lebal_list = [ ilab[i][0] for i in len(ilab) if  ilab[i][1] > threshold ]\n",
    "    return probilityL_list,lebal_list\n",
    "def array_probablity_label(probilityL_list,lebal_list,num_topic):\n",
    "    List_aray = []\n",
    "    for labels in lebal_list:\n",
    "        array = np.zeros(num_topic)\n",
    "        for la in labels:\n",
    "            array[la]= probilityL_list[la]\n",
    "        List_aray.append(array)\n",
    "    return List_aray"
   ]
  },
  {
   "cell_type": "code",
   "execution_count": 89,
   "metadata": {},
   "outputs": [],
   "source": [
    "def evaluate_graph_for_max_label(dictionary, corpus, texts, limit):\n",
    "    \"\"\"\n",
    "    Function to display num_topics - LDA graph using c_v coherence\n",
    "    \n",
    "    Parameters:\n",
    "    ----------\n",
    "    dictionary : Gensim dictionary\n",
    "    corpus : Gensim corpus\n",
    "    limit : topic limit\n",
    "    \n",
    "    Returns:\n",
    "    -------\n",
    "    lm_list : List of LDA topic models\n",
    "    c_v : Coherence values corresponding to the LDA model with respective number of topics\n",
    "    \"\"\"\n",
    "    c_v = []\n",
    "    lm_list = []\n",
    "    for num_topics in range(1, limit):\n",
    "        lm = LdaModel(corpus=corpus, num_topics=num_topics, id2word=dictionary)\n",
    "        lm_list.append(lm)\n",
    "        cm = CoherenceModel(model=lm, texts=texts, dictionary=dictionary, coherence='c_v')\n",
    "        \n",
    "        c_v.append(cm.get_coherence())\n",
    "        \n",
    "    # Show graph\n",
    "    x = range(1, limit)\n",
    "    m = (i for i in range(len(c_v)) if c_v[i]==max[c_v])\n",
    "    print(c_v,m)\n",
    "    plt.plot(x, c_v)\n",
    "    plt.xlabel(\"num_topics\")\n",
    "    plt.ylabel(\"Coherence score\")\n",
    "    plt.legend((\"c_v\"), loc='best')\n",
    "    plt.show()"
   ]
  },
  {
   "cell_type": "code",
   "execution_count": null,
   "metadata": {},
   "outputs": [],
   "source": [
    "%%time\n",
    "warnings.filterwarnings(\"ignore\")\n",
    "evaluate_graph_for_max_label(dictionary_biti,corpus_biti, bi_Tri_grams, limit=3)"
   ]
  },
  {
   "cell_type": "code",
   "execution_count": null,
   "metadata": {},
   "outputs": [],
   "source": []
  },
  {
   "cell_type": "markdown",
   "metadata": {},
   "source": [
    "# Used 3 for num_topics:"
   ]
  },
  {
   "cell_type": "code",
   "execution_count": 18,
   "metadata": {},
   "outputs": [
    {
     "name": "stdout",
     "output_type": "stream",
     "text": [
      "CPU times: user 4min 15s, sys: 10.2 s, total: 4min 25s\n",
      "Wall time: 4min 31s\n"
     ]
    }
   ],
   "source": [
    "%%time\n",
    "warnings.filterwarnings(\"ignore\")\n",
    "ldamodel_biti = LdaModel(corpus=corpus_biti, \n",
    "                    num_topics=3, id2word=dictionary_biti,update_every=1)"
   ]
  },
  {
   "cell_type": "code",
   "execution_count": 19,
   "metadata": {},
   "outputs": [],
   "source": [
    "ldamodel_biti.save('The_best_model_for_Consumer_complaint_narrative.gensim')"
   ]
  },
  {
   "cell_type": "code",
   "execution_count": null,
   "metadata": {},
   "outputs": [],
   "source": []
  },
  {
   "cell_type": "code",
   "execution_count": null,
   "metadata": {},
   "outputs": [],
   "source": []
  },
  {
   "cell_type": "code",
   "execution_count": 20,
   "metadata": {},
   "outputs": [],
   "source": [
    "all_topics = ldamodel_biti.show_topics(num_topics=3)"
   ]
  },
  {
   "cell_type": "code",
   "execution_count": 31,
   "metadata": {},
   "outputs": [],
   "source": [
    "def find_probility_for_label(ldamodel, corpus):\n",
    "    \n",
    "    \"\"\"\n",
    "    This finctuion extract probability for every row according to threshold\n",
    "    \n",
    "    Parameters:\n",
    "    ----------\n",
    "    ldamodel : model of LDA\n",
    "    corpus : Gensim corpus\n",
    "    \n",
    "    \n",
    "    Returns:\n",
    "    -------\n",
    "    probabilitylist : probabilitylist list for every row \n",
    "    leballist : label for ever row\n",
    "    \"\"\"\n",
    "    lda_corpus = ldamodel[corpus]\n",
    "    \n",
    "    #find threshold\n",
    "    scores = list(chain(*[[score for topic_id,score in topic] \\\n",
    "                          for topic in [doc for doc in lda_corpus]]))\n",
    "    threshold = sum(scores)/len(scores)\n",
    "    print('threshold for probability:',threshold)\n",
    "\n",
    "    lda_corpus = ldamodel[corpus]\n",
    "    #extract probability\n",
    "    probabilitylist =[]\n",
    "    leballist = []\n",
    "    for n in range(len(lda_corpus)): #len(lda_corpus)\n",
    "        ilab = lda_corpus[n]\n",
    "        probabilityL = [ilab[i][1] for i in range(len(ilab)) if  ilab[i][1] > threshold]\n",
    "        lebal = [ ilab[i][0] for i in range(len(ilab)) if  ilab[i][1] > threshold ]\n",
    "        #print(probilityL )\n",
    "        #print(lebal)\n",
    "        probabilitylist.append(probabilityL)\n",
    "        leballist.append(lebal)\n",
    "        \n",
    "        \n",
    "    return probabilitylist,leballist"
   ]
  },
  {
   "cell_type": "code",
   "execution_count": 78,
   "metadata": {},
   "outputs": [],
   "source": [
    "def arrowforlebels(probability_list,lebal_list, num_topics=3):\n",
    "    \"\"\"\n",
    "    This finctuion get  problitly for evry row and compute a mount \n",
    "    probability for every class\n",
    "    \n",
    "    Parameters:\n",
    "    ----------\n",
    "   probabilitylist : probabilitylist list for every row  \n",
    "    leballist : label for ever row\n",
    "    \n",
    "    \n",
    "    Returns:\n",
    "    -------\n",
    "    porb : a probabilitylist for evry class (precent)\n",
    "    \n",
    "    \n",
    "    \"\"\"\n",
    "    arrow_probability = []\n",
    "    for num in range(len(probability_list)):\n",
    "        k = np.zeros(num_topics)\n",
    "        for i in range(len(probability_list[num])):\n",
    "            k[lebal_list[num][i]] = probability_list[num][i]\n",
    "        arrow_probability.append(k)\n",
    "\n",
    "    listt = []\n",
    "    for i in range(num_topics):\n",
    "        listt.append([])\n",
    "        for j in range(len(arrow_probability)):\n",
    "            listt[i].append(arrow_probability[j][i])\n",
    "\n",
    "    porb = []\n",
    "    #print(listt)\n",
    "    listt2 = []\n",
    "    for i in listt:\n",
    "        listt2.append(sum(i))\n",
    "    s= sum(listt2)\n",
    "    for i in range(len(listt)):\n",
    "        porb.append(round(sum(listt[i])*100/s,2))\n",
    "    return porb,arrow_probability\n"
   ]
  },
  {
   "cell_type": "code",
   "execution_count": 51,
   "metadata": {},
   "outputs": [
    {
     "name": "stdout",
     "output_type": "stream",
     "text": [
      "CPU times: user 5 µs, sys: 1e+03 ns, total: 6 µs\n",
      "Wall time: 11 µs\n"
     ]
    }
   ],
   "source": [
    "%%time\n",
    "#probabilitylist,leballist = delayed(find_probility_for_label)(ldamodel_biti, corpus_biti)\n",
    "#prob = delayed(arrowforlebels)(probability_list,lebal_list)\n",
    "#prob = prob.compute()\n",
    "num_topics = 3\n",
    "probabilitylist,leballist = find_probility_for_label(ldamodel_biti, corpus_biti)\n",
    "prob,arrow_probability = arrowforlebels(probabilitylist,leballist,num_topics)"
   ]
  },
  {
   "cell_type": "code",
   "execution_count": 80,
   "metadata": {},
   "outputs": [],
   "source": [
    "#prob,arrow_probability = \n",
    "prob,arrow_probability = arrowforlebels(probabilitylist,leballist,3)"
   ]
  },
  {
   "cell_type": "code",
   "execution_count": 91,
   "metadata": {},
   "outputs": [
    {
     "data": {
      "text/plain": [
       "array([0.        , 0.        , 0.69399375])"
      ]
     },
     "execution_count": 91,
     "metadata": {},
     "output_type": "execute_result"
    }
   ],
   "source": [
    "arrow_probability[1]"
   ]
  },
  {
   "cell_type": "code",
   "execution_count": null,
   "metadata": {},
   "outputs": [],
   "source": []
  },
  {
   "cell_type": "code",
   "execution_count": null,
   "metadata": {},
   "outputs": [],
   "source": []
  },
  {
   "cell_type": "code",
   "execution_count": 82,
   "metadata": {},
   "outputs": [
    {
     "data": {
      "text/plain": [
       "Text(0.5, 1.0, 'possible for every class (LDA classfication)')"
      ]
     },
     "execution_count": 82,
     "metadata": {},
     "output_type": "execute_result"
    },
    {
     "data": {
      "image/png": "[encoded data removed]",
      "text/plain": [
       "<Figure size 1008x360 with 1 Axes>"
      ]
     },
     "metadata": {
      "needs_background": "light"
     },
     "output_type": "display_data"
    }
   ],
   "source": [
    "plt.figure(figsize=(14,5))\n",
    "g = sns.barplot(x=np.arange(0,3),y=prob)\n",
    "for i in range(3):\n",
    "      g.text(i,prob[i], round(prob[i],2), color='black', ha=\"center\")\n",
    "plt.xlabel(\"number-of-class\")\n",
    "plt.ylabel('probability)(%100)')\n",
    "plt.xtick(['not-good','bad','so-bad'])\n",
    "plt.title('possible for every class (LDA classfication)')"
   ]
  },
  {
   "cell_type": "code",
   "execution_count": null,
   "metadata": {},
   "outputs": [],
   "source": []
  },
  {
   "cell_type": "code",
   "execution_count": 93,
   "metadata": {},
   "outputs": [
    {
     "data": {
      "text/plain": [
       "<Figure size 720x576 with 0 Axes>"
      ]
     },
     "metadata": {},
     "output_type": "display_data"
    }
   ],
   "source": [
    "plt.figure(figsize=(10,8))\n",
    "p = pyLDAvis.enable_notebook()\n",
    "p = pyLDAvis.gensim.prepare(ldamodel_biti, corpus_biti, dictionary_biti)"
   ]
  },
  {
   "cell_type": "code",
   "execution_count": 96,
   "metadata": {},
   "outputs": [
    {
     "data": {
      "text/html": [
       "\n",
       "<link rel=\"stylesheet\" type=\"text/css\" href=\"https://cdn.rawgit.com/bmabey/pyLDAvis/files/ldavis.v1.0.0.css\">\n",
       "\n",
       "\n",
       "<div id=\"ldavis_el20410103174630084580724751\"></div>\n",
       "<script type=\"text/javascript\">\n",
       "\n",
       "var ldavis_el20410103174630084580724751_data = {\"mdsDat\": {\"Freq\": [40.676273345947266, 33.718109130859375, 25.605619430541992], \"cluster\": [1, 1, 1], \"topics\": [1, 2, 3], \"x\": [-0.11530923485693029, -0.11633715338321671, 0.23164638824014702], \"y\": [0.13379518815482747, -0.1333999667257026, -0.0003952214291248139]}, \"tinfo\": {\"Category\": [\"Default\", \"Default\", \"Default\", \"Default\", \"Default\", \"Default\", \"Default\", \"Default\", \"Default\", \"Default\", \"Default\", \"Default\", \"Default\", \"Default\", \"Default\", \"Default\", \"Default\", \"Default\", \"Default\", \"Default\", \"Default\", \"Default\", \"Default\", \"Default\", \"Default\", \"Default\", \"Default\", \"Default\", \"Default\", \"Default\", \"Topic1\", \"Topic1\", \"Topic1\", \"Topic1\", \"Topic1\", \"Topic1\", \"Topic1\", \"Topic1\", \"Topic1\", \"Topic1\", \"Topic1\", \"Topic1\", \"Topic1\", \"Topic1\", \"Topic1\", \"Topic1\", \"Topic1\", \"Topic1\", \"Topic1\", \"Topic1\", \"Topic1\", \"Topic1\", \"Topic1\", \"Topic1\", \"Topic1\", \"Topic1\", \"Topic1\", \"Topic1\", \"Topic1\", \"Topic1\", \"Topic1\", \"Topic1\", \"Topic1\", \"Topic1\", \"Topic1\", \"Topic1\", \"Topic1\", \"Topic1\", \"Topic1\", \"Topic1\", \"Topic1\", \"Topic1\", \"Topic1\", \"Topic1\", \"Topic1\", \"Topic1\", \"Topic1\", \"Topic1\", \"Topic1\", \"Topic1\", \"Topic1\", \"Topic1\", \"Topic1\", \"Topic1\", \"Topic1\", \"Topic1\", \"Topic1\", \"Topic1\", \"Topic1\", \"Topic1\", \"Topic1\", \"Topic1\", \"Topic1\", \"Topic1\", \"Topic1\", \"Topic1\", \"Topic1\", \"Topic1\", \"Topic1\", \"Topic1\", \"Topic1\", \"Topic1\", \"Topic1\", \"Topic1\", \"Topic1\", \"Topic1\", \"Topic1\", \"Topic1\", \"Topic1\", \"Topic1\", \"Topic1\", \"Topic1\", \"Topic1\", \"Topic1\", \"Topic1\", \"Topic2\", \"Topic2\", \"Topic2\", \"Topic2\", \"Topic2\", \"Topic2\", \"Topic2\", \"Topic2\", \"Topic2\", \"Topic2\", \"Topic2\", \"Topic2\", \"Topic2\", \"Topic2\", \"Topic2\", \"Topic2\", \"Topic2\", \"Topic2\", \"Topic2\", \"Topic2\", \"Topic2\", \"Topic2\", \"Topic2\", \"Topic2\", \"Topic2\", \"Topic2\", \"Topic2\", \"Topic2\", \"Topic2\", \"Topic2\", \"Topic2\", \"Topic2\", \"Topic2\", \"Topic2\", \"Topic2\", \"Topic2\", \"Topic2\", \"Topic2\", \"Topic2\", \"Topic2\", \"Topic2\", \"Topic2\", \"Topic2\", \"Topic2\", \"Topic2\", \"Topic2\", \"Topic2\", \"Topic2\", \"Topic2\", \"Topic2\", \"Topic2\", \"Topic2\", \"Topic2\", \"Topic2\", \"Topic2\", \"Topic2\", \"Topic2\", \"Topic2\", \"Topic2\", \"Topic2\", \"Topic2\", \"Topic2\", \"Topic2\", \"Topic2\", \"Topic2\", \"Topic2\", \"Topic2\", \"Topic2\", \"Topic2\", \"Topic2\", \"Topic2\", \"Topic2\", \"Topic2\", \"Topic2\", \"Topic2\", \"Topic2\", \"Topic2\", \"Topic2\", \"Topic2\", \"Topic2\", \"Topic2\", \"Topic2\", \"Topic2\", \"Topic2\", \"Topic2\", \"Topic2\", \"Topic2\", \"Topic2\", \"Topic2\", \"Topic3\", \"Topic3\", \"Topic3\", \"Topic3\", \"Topic3\", \"Topic3\", \"Topic3\", \"Topic3\", \"Topic3\", \"Topic3\", \"Topic3\", \"Topic3\", \"Topic3\", \"Topic3\", \"Topic3\", \"Topic3\", \"Topic3\", \"Topic3\", \"Topic3\", \"Topic3\", \"Topic3\", \"Topic3\", \"Topic3\", \"Topic3\", \"Topic3\", \"Topic3\", \"Topic3\", \"Topic3\", \"Topic3\", \"Topic3\", \"Topic3\", \"Topic3\", \"Topic3\", \"Topic3\", \"Topic3\", \"Topic3\", \"Topic3\", \"Topic3\", \"Topic3\", \"Topic3\", \"Topic3\", \"Topic3\", \"Topic3\", \"Topic3\", \"Topic3\", \"Topic3\", \"Topic3\", \"Topic3\", \"Topic3\", \"Topic3\", \"Topic3\", \"Topic3\", \"Topic3\", \"Topic3\", \"Topic3\", \"Topic3\", \"Topic3\", \"Topic3\", \"Topic3\", \"Topic3\", \"Topic3\", \"Topic3\", \"Topic3\", \"Topic3\", \"Topic3\"], \"Freq\": [704655.0, 263354.0, 119703.0, 125629.0, 70757.0, 92489.0, 82903.0, 60019.0, 70306.0, 79094.0, 121756.0, 104841.0, 58736.0, 31558.0, 27485.0, 118688.0, 43868.0, 30703.0, 35758.0, 20256.0, 22109.0, 35103.0, 125765.0, 34377.0, 18836.0, 17167.0, 18477.0, 27132.0, 16548.0, 60366.0, 9255.40234375, 9135.185546875, 9146.1953125, 4052.76220703125, 4310.876953125, 3946.64990234375, 2959.84375, 5129.15625, 2446.060791015625, 9536.7822265625, 2102.76123046875, 2091.044677734375, 4850.28955078125, 1972.027587890625, 2541.6572265625, 2364.12744140625, 6682.16064453125, 1770.7486572265625, 5162.58349609375, 1864.401611328125, 1649.598876953125, 2319.180419921875, 2319.180419921875, 4206.67333984375, 1706.7178955078125, 6282.2490234375, 14649.2841796875, 1913.12255859375, 1475.633544921875, 1404.9334716796875, 119508.796875, 58590.76953125, 26991.142578125, 16740.9453125, 13455.5966796875, 9714.4033203125, 5685.12451171875, 34409.45703125, 7630.60498046875, 5012.16796875, 3821.69677734375, 3840.8935546875, 11762.2568359375, 3130.70849609375, 9306.935546875, 6352.77685546875, 13468.052734375, 15782.169921875, 9961.1298828125, 23610.962890625, 7751.224609375, 15328.072265625, 29878.89453125, 47233.734375, 8496.5615234375, 7287.29638671875, 40077.08203125, 44903.06640625, 72307.3359375, 42443.10546875, 10611.697265625, 188029.25, 21081.62109375, 48395.4140625, 212658.0625, 47992.28125, 38281.70703125, 32479.931640625, 20349.32421875, 50346.8984375, 18703.958984375, 30949.103515625, 28490.099609375, 37065.328125, 39518.0703125, 30674.9140625, 24381.611328125, 32225.82421875, 27209.91015625, 22440.470703125, 22722.345703125, 25506.451171875, 27014.3125, 23487.998046875, 22984.498046875, 13924.609375, 11300.875, 5657.13525390625, 5025.2646484375, 9504.0927734375, 5141.80517578125, 5880.40966796875, 5057.41162109375, 3189.4130859375, 3154.83349609375, 4587.732421875, 3011.727783203125, 2707.677490234375, 5771.248046875, 2321.90478515625, 2176.423583984375, 1988.2216796875, 1864.6837158203125, 1842.13623046875, 1729.4119873046875, 1622.007568359375, 1619.66845703125, 1789.6612548828125, 1751.819091796875, 1556.6229248046875, 2220.350830078125, 1436.70947265625, 1386.4366455078125, 1321.0089111328125, 1324.4263916015625, 90761.625, 14915.14453125, 9249.01171875, 4065.633544921875, 4660.02734375, 3787.26318359375, 2941.029296875, 2836.268798828125, 13112.0791015625, 9509.1728515625, 2410.54931640625, 6493.28271484375, 7588.7060546875, 4208.1025390625, 2620.90185546875, 72460.2890625, 7049.54345703125, 18774.072265625, 4699.23828125, 12142.2236328125, 18557.314453125, 31329.44921875, 5969.28271484375, 20540.046875, 17936.869140625, 16700.056640625, 23721.74609375, 12962.16796875, 16676.791015625, 164196.703125, 80826.84375, 15507.2705078125, 32645.716796875, 31115.4375, 66971.875, 11382.81640625, 17918.455078125, 33138.3828125, 14617.41015625, 160490.484375, 16140.9453125, 42734.34765625, 51452.3125, 18068.69140625, 34880.515625, 27791.18359375, 99438.921875, 32021.333984375, 28042.1015625, 27059.845703125, 25367.638671875, 22462.5546875, 23939.12109375, 22227.4453125, 22999.810546875, 20488.173828125, 20705.291015625, 20716.724609375, 19760.490234375, 27484.333984375, 20255.857421875, 17166.642578125, 16547.5390625, 12415.30859375, 9798.2080078125, 12369.1240234375, 9980.8798828125, 10778.021484375, 7032.748046875, 5809.99609375, 5629.3330078125, 5872.447265625, 5842.5009765625, 8164.755859375, 6009.76904296875, 4242.65966796875, 4297.1103515625, 4043.03662109375, 3983.096923828125, 3632.628173828125, 3634.54443359375, 3903.65673828125, 3539.916015625, 3265.97021484375, 3340.615966796875, 3301.02294921875, 3393.978271484375, 3070.00634765625, 3253.5830078125, 70723.65625, 31547.845703125, 18809.2734375, 16103.904296875, 10473.2060546875, 5748.95166015625, 11657.5654296875, 4077.622802734375, 57777.859375, 17989.068359375, 5858.2578125, 21286.673828125, 11034.8564453125, 9955.3642578125, 74100.359375, 100440.4296875, 57116.7109375, 26125.6875, 13471.7685546875, 392558.625, 70220.140625, 26841.60546875, 17636.6796875, 31007.587890625, 18088.35546875, 99011.2265625, 117203.640625, 43358.62890625, 39728.125, 29994.65625, 21521.14453125, 25707.677734375, 19174.96875, 16216.126953125, 17981.4140625], \"Term\": [\"card_number\", \"account\", \"loan\", \"number card_card number\", \"credit_report\", \"card\", \"card number_number card\", \"report\", \"debt\", \"bank\", \"credit\", \"information\", \"mortgage\", \"reporting\", \"equifax\", \"payment\", \"accounts\", \"reported\", \"dispute\", \"experian\", \"collection\", \"home\", \"told\", \"check\", \"credit_bureaus\", \"transunion\", \"inquiry\", \"loans\", \"credit_reporting\", \"payments\", \"loan_modification\", \"modification\", \"ocwen\", \"short_sale\", \"appraisal\", \"nationstar\", \"mr_cooper\", \"forbearance\", \"loan_forgiveness\", \"escrow\", \"property_taxes\", \"investor\", \"servicer\", \"loss_mitigation\", \"repayment_plan\", \"loan_officer\", \"mortgage_company\", \"caliber\", \"ditech\", \"pmi\", \"homeowner\", \"without_understanding\", \"without understanding\", \"refinance\", \"seterus\", \"school\", \"navient\", \"sls\", \"bayview\", \"shellpoint\", \"loan\", \"mortgage\", \"loans\", \"property\", \"house\", \"foreclosure\", \"servicing\", \"home\", \"income\", \"taxes\", \"escrow_account\", \"borrower\", \"lender\", \"deferment\", \"vehicle\", \"sale\", \"insurance\", \"car\", \"paperwork\", \"work\", \"student_loan\", \"calls\", \"us\", \"payments\", \"program\", \"family\", \"call\", \"pay\", \"told\", \"get\", \"calling\", \"not\", \"years\", \"time\", \"card_number\", \"called\", \"said\", \"asked\", \"going\", \"payment\", \"help\", \"since\", \"back\", \"received\", \"company\", \"paid\", \"could\", \"sent\", \"one\", \"stated\", \"even\", \"amount\", \"number\", \"still\", \"due\", \"coinbase\", \"checking_account\", \"american_express\", \"paypal\", \"citibank\", \"debit_card\", \"branch\", \"merchant\", \"purchases\", \"deposited\", \"late_fee\", \"td_bank\", \"atm\", \"cards\", \"promotion\", \"bonus\", \"direct_deposit\", \"amex\", \"home_depot\", \"savings_account\", \"overdraft_fees\", \"overdraft\", \"wire_transfer\", \"minimum_payment\", \"usd\", \"called_customer\", \"wallet\", \"teller\", \"annual_fee\", \"balance_transfer\", \"card\", \"fee\", \"deposit\", \"close_account\", \"store\", \"usaa\", \"credited\", \"reversed\", \"capital_one\", \"refund\", \"navy_federal\", \"citi\", \"transactions\", \"chase_bank\", \"wire\", \"bank\", \"customers\", \"charges\", \"due_date\", \"customer\", \"funds\", \"check\", \"discover\", \"chase\", \"online\", \"customer_service\", \"charge\", \"transaction\", \"charged\", \"account\", \"credit\", \"fees\", \"balance\", \"money\", \"payment\", \"website\", \"statement\", \"made\", \"bank_america\", \"not\", \"service\", \"called\", \"told\", \"issue\", \"received\", \"one\", \"card_number\", \"time\", \"said\", \"paid\", \"amount\", \"due\", \"since\", \"get\", \"number\", \"still\", \"back\", \"pay\", \"sent\", \"equifax\", \"experian\", \"transunion\", \"credit_reporting\", \"inquiries\", \"credit_file\", \"credit_reports\", \"bureaus\", \"creditor\", \"original_creditor\", \"consumer_reporting\", \"card number_number inquiry\", \"removed_credit\", \"three_credit\", \"identity_theft\", \"deleted\", \"fair_credit\", \"not_belong\", \"fcra\", \"credit reporting_reporting act\", \"inquiry card_card number\", \"alleged_debt\", \"inaccurate_information\", \"reporting_act\", \"fair credit_credit reporting\", \"victim_identity\", \"please_remove\", \"validation\", \"consumer reporting_reporting agency\", \"credit reporting_reporting agencies\", \"credit_report\", \"reporting\", \"credit_bureaus\", \"disputed\", \"reports\", \"not_mine\", \"agencies\", \"credit report\", \"report\", \"inquiry\", \"inaccurate\", \"collection\", \"collection_agency\", \"credit_bureau\", \"card number_number card\", \"number card_card number\", \"debt\", \"reported\", \"agency\", \"card_number\", \"information\", \"dispute\", \"removed\", \"accounts\", \"consumer\", \"account\", \"not\", \"company\", \"credit\", \"number\", \"letter\", \"sent\", \"date\", \"file\", \"name\"], \"Total\": [704655.0, 263354.0, 119703.0, 125629.0, 70757.0, 92489.0, 82903.0, 60019.0, 70306.0, 79094.0, 121756.0, 104841.0, 58736.0, 31558.0, 27485.0, 118688.0, 43868.0, 30703.0, 35758.0, 20256.0, 22109.0, 35103.0, 125765.0, 34377.0, 18836.0, 17167.0, 18477.0, 27132.0, 16548.0, 60366.0, 9255.9658203125, 9135.7548828125, 9146.8017578125, 4053.3193359375, 4311.47705078125, 3947.3994140625, 2960.5107421875, 5130.333984375, 2446.67822265625, 9539.2236328125, 2103.334716796875, 2091.623779296875, 4851.64794921875, 1972.5849609375, 2542.4541015625, 2364.880859375, 6684.3515625, 1771.334228515625, 5164.310546875, 1865.0498046875, 1650.1734619140625, 2320.02197265625, 2320.02197265625, 4208.2119140625, 1707.343017578125, 6284.5517578125, 14654.873046875, 1913.853271484375, 1476.1971435546875, 1405.496337890625, 119703.6328125, 58736.24609375, 27132.244140625, 16756.189453125, 13463.74609375, 9718.4619140625, 5688.91748046875, 35103.80859375, 7670.0634765625, 5026.48681640625, 3823.5615234375, 3844.853271484375, 11911.8330078125, 3133.323486328125, 9476.2001953125, 6449.248046875, 13902.076171875, 16450.533203125, 10285.58203125, 26171.564453125, 8138.576171875, 17042.36328125, 36045.203125, 60366.30859375, 9185.6611328125, 7754.59326171875, 58652.84375, 67470.46875, 125765.671875, 67767.390625, 12160.07421875, 465723.375, 29232.712890625, 88107.25, 704655.625, 94459.0546875, 70817.1953125, 57808.66015625, 29624.458984375, 118688.390625, 27659.201171875, 63287.9140625, 55572.06640625, 86386.1875, 98859.109375, 65784.0859375, 44124.4765625, 77693.9921875, 62146.25390625, 41055.73046875, 42563.5390625, 61269.3125, 80008.78125, 52389.53515625, 50908.4921875, 13925.2080078125, 11301.5166015625, 5657.7490234375, 5025.86181640625, 9505.251953125, 5142.4619140625, 5881.36962890625, 5058.26904296875, 3190.043701171875, 3155.487548828125, 4588.6943359375, 3012.361572265625, 2708.272216796875, 5772.70751953125, 2322.50732421875, 2177.01953125, 1988.8343505859375, 1865.2935791015625, 1842.776611328125, 1730.0164794921875, 1622.60595703125, 1620.2674560546875, 1790.347412109375, 1752.49609375, 1557.26953125, 2221.302490234375, 1437.332763671875, 1387.04150390625, 1321.597900390625, 1325.0203857421875, 92489.4453125, 14942.0224609375, 9253.8037109375, 4067.581787109375, 4675.27197265625, 3795.784912109375, 2944.223388671875, 2839.076416015625, 13333.1494140625, 9639.85546875, 2413.25390625, 6573.32421875, 7734.27392578125, 4255.4404296875, 2629.445068359375, 79094.796875, 7238.61376953125, 19908.89453125, 4777.2568359375, 12738.5419921875, 19824.466796875, 34377.859375, 6119.77490234375, 22188.853515625, 19333.427734375, 17981.0078125, 26035.64453125, 14069.330078125, 19069.298828125, 263354.71875, 121756.2109375, 18428.890625, 44958.78125, 45106.265625, 118688.390625, 13399.2021484375, 24014.47265625, 55513.4140625, 18948.443359375, 465723.375, 22153.71875, 94459.0546875, 125765.671875, 28140.5390625, 86386.1875, 62146.25390625, 704655.625, 88107.25, 70817.1953125, 65784.0859375, 61269.3125, 50908.4921875, 63287.9140625, 67767.390625, 80008.78125, 52389.53515625, 55572.06640625, 67470.46875, 77693.9921875, 27485.0, 20256.529296875, 17167.3046875, 16548.27734375, 12416.1328125, 9798.8642578125, 12369.953125, 9981.5732421875, 10778.8017578125, 7033.40478515625, 5810.6396484375, 5629.9677734375, 5873.14794921875, 5843.208984375, 8165.81201171875, 6010.67626953125, 4243.3173828125, 4297.78271484375, 4043.68359375, 3983.739990234375, 3633.269287109375, 3635.194091796875, 3904.369384765625, 3540.562744140625, 3266.615234375, 3341.280517578125, 3301.6923828125, 3394.66943359375, 3070.642333984375, 3254.263916015625, 70757.1640625, 31558.83984375, 18836.134765625, 16152.1318359375, 10492.4501953125, 5758.1376953125, 11783.85546875, 4078.889404296875, 60019.234375, 18477.73828125, 5901.20947265625, 22109.5703125, 11321.484375, 10208.6494140625, 82903.796875, 125629.328125, 70306.015625, 30703.11328125, 15082.30078125, 704655.625, 104841.625, 35758.640625, 21809.982421875, 43868.40625, 22664.5859375, 263354.71875, 465723.375, 98859.109375, 121756.2109375, 80008.78125, 46891.71484375, 77693.9921875, 37787.7890625, 25744.953125, 37259.9921875], \"loglift\": [30.0, 29.0, 28.0, 27.0, 26.0, 25.0, 24.0, 23.0, 22.0, 21.0, 20.0, 19.0, 18.0, 17.0, 16.0, 15.0, 14.0, 13.0, 12.0, 11.0, 10.0, 9.0, 8.0, 7.0, 6.0, 5.0, 4.0, 3.0, 2.0, 1.0, 0.8995000123977661, 0.8995000123977661, 0.8995000123977661, 0.899399995803833, 0.899399995803833, 0.8992999792098999, 0.8992999792098999, 0.8992999792098999, 0.8992999792098999, 0.8992999792098999, 0.8992999792098999, 0.8992000222206116, 0.8992000222206116, 0.8992000222206116, 0.8992000222206116, 0.8992000222206116, 0.8992000222206116, 0.8992000222206116, 0.8992000222206116, 0.8992000222206116, 0.8992000222206116, 0.8992000222206116, 0.8992000222206116, 0.8992000222206116, 0.8992000222206116, 0.8992000222206116, 0.8991000056266785, 0.8991000056266785, 0.8991000056266785, 0.8991000056266785, 0.8978999853134155, 0.8970000147819519, 0.8942999839782715, 0.8985999822616577, 0.8988999724388123, 0.8991000056266785, 0.8988999724388123, 0.8794999718666077, 0.8944000005722046, 0.8967000246047974, 0.8989999890327454, 0.8985000252723694, 0.886900007724762, 0.8986999988555908, 0.8815000057220459, 0.8845000267028809, 0.8677999973297119, 0.8579999804496765, 0.8675000071525574, 0.7965999841690063, 0.8507999777793884, 0.7935000061988831, 0.711899995803833, 0.65420001745224, 0.8215000033378601, 0.8374000191688538, 0.5187000036239624, 0.49230000376701355, 0.34599998593330383, 0.43160000443458557, 0.7633000016212463, -0.007499999832361937, 0.5726000070571899, 0.3003999888896942, -0.2985000014305115, 0.2223999947309494, 0.28439998626708984, 0.3230000138282776, 0.5239999890327454, 0.041999999433755875, 0.5083000063896179, 0.1842000037431717, 0.2313999980688095, 0.05339999869465828, -0.017400000244379044, 0.13660000264644623, 0.30630001425743103, 0.019500000402331352, 0.07360000163316727, 0.2955000102519989, 0.2718999981880188, 0.02319999970495701, -0.18619999289512634, 0.09730000048875809, 0.10429999977350235, 1.0871000289916992, 1.0871000289916992, 1.0870000123977661, 1.0870000123977661, 1.0870000123977661, 1.0870000123977661, 1.0870000123977661, 1.0870000123977661, 1.086899995803833, 1.086899995803833, 1.086899995803833, 1.086899995803833, 1.086899995803833, 1.086899995803833, 1.086899995803833, 1.086899995803833, 1.0867999792099, 1.0867999792099, 1.0867999792099, 1.0867999792099, 1.0867999792099, 1.0867999792099, 1.0867999792099, 1.0866999626159668, 1.0866999626159668, 1.0866999626159668, 1.0866999626159668, 1.0866999626159668, 1.0866999626159668, 1.0866999626159668, 1.0683000087738037, 1.0852999687194824, 1.0865999460220337, 1.0866999626159668, 1.083899974822998, 1.0849000215530396, 1.0859999656677246, 1.0860999822616577, 1.0703999996185303, 1.0735000371932983, 1.0859999656677246, 1.0749000310897827, 1.0680999755859375, 1.0758999586105347, 1.083899974822998, 0.9994999766349792, 1.0607000589370728, 1.02839994430542, 1.0707000494003296, 1.039199948310852, 1.0211000442504883, 0.9943000078201294, 1.0621999502182007, 1.0098999738693237, 1.0121999979019165, 1.013200044631958, 0.9940999746322632, 1.0052000284194946, 0.9531000256538391, 0.6147000193595886, 0.6773999929428101, 0.9144999980926514, 0.7670999765396118, 0.7157999873161316, 0.5149000287055969, 0.9240000247955322, 0.7943000197410583, 0.5712000131607056, 0.8276000022888184, 0.021800000220537186, 0.7705000042915344, 0.2939999997615814, 0.19339999556541443, 0.64410001039505, 0.18019999563694, 0.2824000120162964, -0.8709999918937683, 0.07500000298023224, 0.1606999933719635, 0.1987999975681305, 0.2053000032901764, 0.26899999380111694, 0.11500000208616257, -0.02759999968111515, -0.15950000286102295, 0.14830000698566437, 0.0997999981045723, -0.09359999746084213, -0.28200000524520874, 1.3623000383377075, 1.3623000383377075, 1.3623000383377075, 1.3623000383377075, 1.3623000383377075, 1.3623000383377075, 1.3623000383377075, 1.3623000383377075, 1.3623000383377075, 1.3623000383377075, 1.3622000217437744, 1.3622000217437744, 1.3622000217437744, 1.3622000217437744, 1.3622000217437744, 1.3622000217437744, 1.3622000217437744, 1.3622000217437744, 1.3622000217437744, 1.3622000217437744, 1.3622000217437744, 1.3622000217437744, 1.3622000217437744, 1.3622000217437744, 1.3622000217437744, 1.3622000217437744, 1.3622000217437744, 1.3622000217437744, 1.3622000217437744, 1.3621000051498413, 1.361899971961975, 1.3619999885559082, 1.3609000444412231, 1.3594000339508057, 1.3604999780654907, 1.36080002784729, 1.3516000509262085, 1.3619999885559082, 1.3243000507354736, 1.3356000185012817, 1.3551000356674194, 1.3243999481201172, 1.3366999626159668, 1.3372000455856323, 1.250100016593933, 1.1385999917984009, 1.1546000242233276, 1.2008999586105347, 1.249400019645691, 0.7773000001907349, 0.9614999890327454, 1.0755000114440918, 1.149999976158142, 1.0154000520706177, 1.1368000507354736, 0.3840999901294708, -0.01730000041425228, 0.5382000207901001, 0.24240000545978546, 0.38119998574256897, 0.5835999846458435, 0.2563999891281128, 0.6840000152587891, 0.9000999927520752, 0.6338000297546387], \"logprob\": [30.0, 29.0, 28.0, 27.0, 26.0, 25.0, 24.0, 23.0, 22.0, 21.0, 20.0, 19.0, 18.0, 17.0, 16.0, 15.0, 14.0, 13.0, 12.0, 11.0, 10.0, 9.0, 8.0, 7.0, 6.0, 5.0, 4.0, 3.0, 2.0, 1.0, -7.367499828338623, -7.380499839782715, -7.379300117492676, -8.193300247192383, -8.131500244140625, -8.219799995422363, -8.507499694824219, -7.957699775695801, -8.698200225830078, -7.337500095367432, -8.84939956665039, -8.854999542236328, -8.01360034942627, -8.913599967956543, -8.659799575805664, -8.7322998046875, -7.69320011138916, -9.021300315856934, -7.951200008392334, -8.96969985961914, -9.092100143432617, -8.751399993896484, -8.751399993896484, -8.156000137329102, -9.058099746704102, -7.754899978637695, -6.908299922943115, -8.943900108337402, -9.20359992980957, -9.252699851989746, -4.809299945831299, -5.52209997177124, -6.2972002029418945, -6.774799823760986, -6.993299961090088, -7.3190999031066895, -7.854800224304199, -6.054299831390381, -7.560500144958496, -7.980800151824951, -8.251999855041504, -8.246999740600586, -7.127799987792969, -8.451399803161621, -7.3618998527526855, -7.743800163269043, -6.992300033569336, -6.833799839019775, -7.294000148773193, -6.431000232696533, -7.5447998046875, -6.86299991607666, -6.195499897003174, -5.737599849700928, -7.453000068664551, -7.606500148773193, -5.901899814605713, -5.7881999015808105, -5.311699867248535, -5.8445000648498535, -7.2307000160217285, -4.356100082397461, -6.544300079345703, -5.7133002281188965, -4.232999801635742, -5.72160005569458, -5.947700023651123, -6.111999988555908, -6.579599857330322, -5.673699855804443, -6.663899898529053, -6.160299777984619, -6.243100166320801, -5.980000019073486, -5.915900230407715, -6.1691999435424805, -6.398799896240234, -6.119900226593018, -6.289100170135498, -6.481800079345703, -6.469299793243408, -6.353700160980225, -6.296299934387207, -6.436200141906738, -6.457799911499023, -6.771399974822998, -6.980199813842773, -7.672100067138672, -7.790599822998047, -7.153299808502197, -7.767600059509277, -7.633399963378906, -7.784200191497803, -8.245200157165527, -8.256099700927734, -7.881700038909912, -8.302499771118164, -8.409000396728516, -7.652200222015381, -8.562700271606445, -8.627400398254395, -8.71780014038086, -8.781999588012695, -8.794099807739258, -8.8572998046875, -8.92140007019043, -8.922800064086914, -8.822999954223633, -8.844400405883789, -8.962499618530273, -8.607399940490723, -9.042699813842773, -9.078300476074219, -9.126700401306152, -9.124099731445312, -4.8968000411987305, -6.702700138092041, -7.180500030517578, -8.0024995803833, -7.866000175476074, -8.073399543762207, -8.326299667358398, -8.362600326538086, -6.831500053405762, -7.1528000831604, -8.525199890136719, -7.534299850463867, -7.378399848937988, -7.9679999351501465, -8.441499710083008, -5.122000217437744, -7.452099800109863, -6.472599983215332, -7.857699871063232, -6.908400058746338, -6.4842000007629395, -5.9604997634887695, -7.6184000968933105, -6.382699966430664, -6.518199920654297, -6.589600086212158, -6.238699913024902, -6.8429999351501465, -6.591000080108643, -4.303999900817871, -5.012700080871582, -6.663700103759766, -5.919300079345703, -5.967299938201904, -5.200799942016602, -6.972899913787842, -6.519199848175049, -5.904399871826172, -6.722799777984619, -4.3267998695373535, -6.623700141906738, -5.650100231170654, -5.464399814605713, -6.510900020599365, -5.853099822998047, -6.0802998542785645, -4.805500030517578, -5.938700199127197, -6.071300029754639, -6.10699987411499, -6.171599864959717, -6.2932000160217285, -6.229499816894531, -6.303699970245361, -6.269599914550781, -6.385200023651123, -6.37470006942749, -6.374100208282471, -6.42140007019043, -5.816199779510498, -6.121399879455566, -6.286900043487549, -6.323599815368652, -6.610899925231934, -6.847599983215332, -6.61460018157959, -6.82919979095459, -6.752299785614014, -7.179299831390381, -7.370200157165527, -7.401800155639648, -7.359600067138672, -7.364699840545654, -7.03000020980835, -7.336400032043457, -7.684599876403809, -7.671899795532227, -7.732800006866455, -7.747799873352051, -7.839900016784668, -7.839300155639648, -7.767899990081787, -7.865699768066406, -7.946300029754639, -7.923699855804443, -7.9355998039245605, -7.907800197601318, -8.008199691772461, -7.950099945068359, -4.870999813079834, -5.678299903869629, -6.195499897003174, -6.350800037384033, -6.781000137329102, -7.380799770355225, -6.673900127410889, -7.724299907684326, -5.073200225830078, -6.240099906921387, -7.361999988555908, -6.071700096130371, -6.728799819946289, -6.831699848175049, -4.824399948120117, -4.520299911499023, -5.084700107574463, -5.8668999671936035, -6.529200077056885, -3.157099962234497, -4.878200054168701, -5.839900016784668, -6.259799957275391, -5.6956000328063965, -6.234600067138672, -4.534599781036377, -4.365900039672852, -5.360300064086914, -5.447800159454346, -5.728799819946289, -6.060800075531006, -5.882999897003174, -6.176199913024902, -6.343800067901611, -6.240499973297119]}, \"token.table\": {\"Topic\": [1, 2, 3, 1, 2, 3, 1, 2, 3, 1, 2, 3, 3, 2, 2, 1, 2, 3, 2, 1, 1, 2, 3, 2, 1, 2, 3, 1, 2, 3, 2, 1, 2, 3, 1, 2, 3, 1, 2, 1, 3, 1, 2, 3, 1, 1, 2, 3, 1, 2, 3, 1, 2, 1, 2, 3, 1, 2, 3, 1, 2, 3, 1, 2, 3, 1, 2, 3, 1, 2, 3, 3, 1, 2, 3, 2, 3, 1, 2, 3, 1, 2, 3, 1, 2, 3, 1, 2, 3, 1, 2, 1, 2, 3, 2, 1, 2, 1, 2, 2, 3, 2, 1, 2, 3, 1, 2, 3, 1, 2, 3, 1, 2, 3, 3, 3, 1, 2, 3, 1, 2, 3, 2, 3, 3, 3, 1, 2, 3, 1, 2, 3, 3, 1, 2, 3, 3, 3, 1, 2, 3, 1, 2, 3, 1, 2, 3, 1, 2, 1, 2, 3, 2, 1, 2, 3, 1, 2, 2, 3, 1, 2, 2, 2, 1, 2, 3, 1, 2, 3, 2, 3, 1, 2, 1, 2, 3, 1, 2, 3, 1, 2, 1, 2, 1, 2, 3, 3, 3, 3, 1, 2, 3, 3, 1, 2, 1, 2, 3, 1, 2, 3, 1, 2, 1, 3, 1, 2, 1, 2, 3, 1, 2, 3, 1, 2, 3, 1, 2, 3, 2, 1, 1, 2, 3, 2, 3, 1, 2, 3, 3, 1, 2, 1, 2, 3, 3, 1, 2, 3, 3, 1, 2, 3, 1, 1, 2, 3, 1, 2, 1, 2, 3, 1, 2, 3, 1, 2, 3, 1, 1, 1, 1, 2, 3, 1, 1, 2, 3, 2, 3, 2, 1, 1, 2, 3, 1, 2, 3, 1, 2, 1, 1, 2, 3, 1, 1, 2, 1, 2, 1, 2, 3, 3, 2, 3, 1, 2, 3, 1, 2, 3, 1, 1, 2, 3, 1, 2, 3, 3, 2, 2, 1, 2, 3, 1, 2, 3, 1, 2, 3, 1, 2, 3, 1, 2, 3, 2, 3, 1, 1, 2, 2, 1, 3, 1, 2, 1, 2, 3, 1, 2, 1, 2, 1, 2, 3, 3, 1, 2, 1, 2, 3, 1, 2, 3, 1, 2, 3, 3, 1, 2, 3, 1, 2, 1, 2, 3, 1, 2, 3, 2, 1, 2, 1, 2, 3, 1, 2, 3, 1, 3, 1, 2, 3, 1, 1, 1, 1, 2, 3, 1, 1, 2, 3, 1, 2, 3, 1, 2, 3, 1, 2, 3, 1, 2, 3, 1, 2, 3, 2, 2, 3, 1, 2, 3, 1, 2, 3, 1, 2, 3, 2, 3, 3, 1, 2, 3, 1, 2, 2, 3, 1, 2, 3, 3, 2, 1, 2, 3, 1, 2, 2, 1, 3, 1, 3, 1, 2, 3, 1, 2, 3], \"Freq\": [0.0005581825389526784, 0.6234822869300842, 0.3759606182575226, 6.838634726591408e-05, 0.2931038737297058, 0.7068412899971008, 0.005431159399449825, 0.005261436104774475, 0.9893196821212769, 0.10170862078666687, 0.005105321761220694, 0.8932324051856995, 0.9999465942382812, 0.9998676180839539, 0.9998425841331482, 0.4162932336330414, 0.4140408933162689, 0.1696607917547226, 0.9995476007461548, 0.9998893737792969, 0.5618535280227661, 0.3170459270477295, 0.12110642343759537, 0.9998995065689087, 0.5126676559448242, 0.37257927656173706, 0.114751897752285, 0.05865372344851494, 0.726131796836853, 0.21521936357021332, 0.999229907989502, 0.06650248169898987, 0.9161158800125122, 0.017384203150868416, 0.22745931148529053, 0.7714090347290039, 0.0011082704877480865, 0.9998664259910583, 0.9995316863059998, 0.9989978075027466, 0.0010403518099337816, 0.00017002841923385859, 0.9997671246528625, 0.9999425411224365, 0.9998112916946411, 0.6832916736602783, 0.309158056974411, 0.007535866461694241, 0.508072018623352, 0.4524076581001282, 0.039509180933237076, 0.00045018631499260664, 0.9994136095046997, 0.8726920485496521, 0.11521311104297638, 0.012170977890491486, 0.8994057774543762, 0.08068130165338516, 0.01995028555393219, 7.500103674829006e-05, 0.983413577079773, 0.016575228422880173, 0.9593610167503357, 0.04024185612797737, 0.00036472981446422637, 1.0812044820340816e-05, 0.9813227653503418, 0.01867240108549595, 0.08248114585876465, 0.023714233189821243, 0.893807053565979, 0.9998281002044678, 0.3017899692058563, 0.1411171555519104, 0.5570933818817139, 0.9997041821479797, 0.00017322893836535513, 0.0012290842132642865, 0.9111354947090149, 0.08764906972646713, 0.02197249047458172, 0.8745471239089966, 0.10346473753452301, 0.0028630418237298727, 0.9429956078529358, 0.054146651178598404, 0.07427152246236801, 0.9256899952888489, 4.5067674363963306e-05, 0.011044684797525406, 0.9888518452644348, 0.07731720805168152, 0.9113132953643799, 0.01137359905987978, 0.9999542832374573, 0.012170402333140373, 0.9877802729606628, 0.00010520499927224591, 0.9998682737350464, 0.9996111392974854, 0.0004916926263831556, 0.9999850392341614, 0.036364343017339706, 0.0008593563688918948, 0.9627957344055176, 0.025085050612688065, 0.00026498292572796345, 0.9746955037117004, 0.399740606546402, 0.16166441142559052, 0.43859386444091797, 0.02444341965019703, 0.1775015890598297, 0.7980732321739197, 0.9997907876968384, 0.9998899102210999, 0.5525731444358826, 0.41566500067710876, 0.031773749738931656, 0.00986397359520197, 0.6638429164886475, 0.32629135251045227, 0.00024516478879377246, 0.9997819662094116, 0.9998142719268799, 0.9999188780784607, 0.001763210748322308, 0.02301969565451145, 0.9751535058021545, 5.308944673743099e-05, 0.00132723618298769, 0.9985594153404236, 0.9999117851257324, 2.826568925229367e-05, 0.00043811817886307836, 0.9995312690734863, 0.9999832510948181, 0.9999229311943054, 0.0010189444292336702, 0.9989051818847656, 0.9999256134033203, 0.01884046010673046, 0.9531702995300293, 0.027946682646870613, 0.06996271014213562, 0.9287577271461487, 0.0012791274348273873, 0.0261099711060524, 0.9739434123039246, 0.27773523330688477, 0.21483130753040314, 0.5074390769004822, 0.9999101758003235, 0.18736661970615387, 0.00022757654369343072, 0.8124055862426758, 0.9992584586143494, 0.0006382998544722795, 0.00016637063527014107, 0.9998874664306641, 0.00043225468834862113, 0.9994809031486511, 0.9998455047607422, 0.9995805025100708, 0.0004902140935882926, 0.9753626585006714, 0.02418389543890953, 0.00016779161524027586, 0.24919851124286652, 0.7506437301635742, 0.002971743931993842, 0.9970200657844543, 0.9997462034225464, 0.0001936366898007691, 0.4514767527580261, 0.44124269485473633, 0.10727090388536453, 0.01632736250758171, 0.9836188554763794, 0.999963641166687, 0.9997668862342834, 0.0002096606622217223, 0.999591588973999, 0.0005230725510045886, 0.5338371992111206, 0.3337833285331726, 0.13239030539989471, 0.9999738931655884, 0.9998116493225098, 0.9999251961708069, 0.9397011399269104, 0.04320020228624344, 0.01702217012643814, 0.999830961227417, 0.0018069843063130975, 0.9981915354728699, 0.1264319121837616, 0.8414505124092102, 0.03212347626686096, 0.34018316864967346, 0.029947618022561073, 0.6298710107803345, 0.9997400045394897, 0.00019491907733026892, 0.9995408654212952, 0.00041158776730298996, 0.06391092389822006, 0.9360655546188354, 0.6263042092323303, 0.3279896080493927, 0.045700445771217346, 0.6868986487388611, 0.2888491451740265, 0.024236729368567467, 0.6762306690216064, 0.2933924198150635, 0.03036964125931263, 0.9802070260047913, 0.0064095607958734035, 0.013360373675823212, 0.9995785355567932, 0.9998948574066162, 0.9994246959686279, 0.0005199147271923721, 7.42735355743207e-05, 0.00012246180267538875, 0.9999005794525146, 0.0033891357015818357, 0.003897506045177579, 0.9926778674125671, 0.9999054074287415, 0.994907021522522, 0.005084703676402569, 0.19921477138996124, 0.13101667165756226, 0.6697721481323242, 0.9999087452888489, 0.0007035493035800755, 0.025760728865861893, 0.9735499024391174, 0.9999259114265442, 0.9687761664390564, 0.0010070438729599118, 0.03021131455898285, 0.9997017979621887, 0.2544372081756592, 0.6420985460281372, 0.10348060727119446, 0.00021792692132294178, 0.9998486638069153, 0.9874215126037598, 8.395013719564304e-05, 0.012508570216596127, 0.4035467803478241, 0.1375083029270172, 0.45895102620124817, 0.9983740448951721, 0.0012113249395042658, 0.0004176982620265335, 0.9997227787971497, 0.9998956322669983, 0.9996275305747986, 0.9947942495346069, 0.000700273783877492, 0.004496494773775339, 0.9997034668922424, 0.29493772983551025, 0.596936821937561, 0.10811801254749298, 0.9997491240501404, 0.0001976960920728743, 0.9997169375419617, 0.9999173879623413, 0.28838565945625305, 0.6898154616355896, 0.021792981773614883, 0.9975271224975586, 0.001157717895694077, 0.0013279704144224524, 0.9996482133865356, 0.00029920629458501935, 0.99982750415802, 0.36307039856910706, 0.15434785187244415, 0.4825819730758667, 0.9998987913131714, 0.9995992183685303, 0.00034118344774469733, 0.0008287565433420241, 0.9990660548210144, 0.40373536944389343, 0.3446037173271179, 0.2516601085662842, 0.9998179078102112, 0.001563005382195115, 0.9984130859375, 0.33763793110847473, 0.28746843338012695, 0.3748963475227356, 0.17319999635219574, 0.027302542701363564, 0.7994948625564575, 0.9999123215675354, 0.4378381371498108, 0.44718703627586365, 0.11497072875499725, 0.007448239717632532, 0.9277713298797607, 0.06475830078125, 0.999942421913147, 0.9998349547386169, 0.9996265769004822, 0.4662981927394867, 0.4113456904888153, 0.12235482037067413, 0.9684430360794067, 0.004277832806110382, 0.02722257189452648, 0.6655207872390747, 0.3070528507232666, 0.027434224262833595, 0.4241948127746582, 0.5642675161361694, 0.011542830616235733, 0.7824563384056091, 0.21636241674423218, 0.0011761527275666595, 0.9998285174369812, 0.9997903108596802, 0.9994370937347412, 0.9250286817550659, 0.07500821352005005, 0.9997815489768982, 0.9990934729576111, 0.0008951916242949665, 0.9998408555984497, 0.9996728301048279, 0.4290616512298584, 0.4037798345088959, 0.16715635359287262, 0.9997119903564453, 0.0002376306219957769, 0.013485679402947426, 0.9864255785942078, 0.033562611788511276, 0.15777179598808289, 0.8086664080619812, 0.9998045563697815, 0.9998213648796082, 0.0003933207772206515, 0.002715795999392867, 0.0346388965845108, 0.9626580476760864, 0.003973538521677256, 0.14509929716587067, 0.850923478603363, 6.337368540698662e-05, 0.00028518159524537623, 0.9996564984321594, 0.999841034412384, 0.00019061325292568654, 0.0016202125698328018, 0.9981462955474854, 0.0010566816199570894, 0.9989163875579834, 0.5405749082565308, 0.39597728848457336, 0.06344504654407501, 0.9850760698318481, 0.003256193595007062, 0.011629262939095497, 0.9994124174118042, 0.99959397315979, 0.0003182406653650105, 0.4147810935974121, 0.254331111907959, 0.33088788390159607, 0.12702156603336334, 0.7285910248756409, 0.14435499906539917, 0.999660313129425, 0.0002061155391857028, 0.9993113875389099, 0.00035156073863618076, 0.00035156073863618076, 0.9997990727424622, 0.9996468424797058, 0.9999212026596069, 0.48901912569999695, 0.3782554864883423, 0.1327267587184906, 0.9995541572570801, 0.5465741157531738, 0.268074631690979, 0.18535780906677246, 0.12046901881694794, 0.7461333870887756, 0.13337790966033936, 0.4483337998390198, 0.3910704553127289, 0.16058550775051117, 0.00042778259376063943, 0.9967334866523743, 0.0027805869467556477, 0.9523779153823853, 0.0012287161080166698, 0.046322599053382874, 0.9971178770065308, 0.00198946101590991, 0.000795784464571625, 0.9998799562454224, 0.9992491006851196, 0.9999642372131348, 0.5492737293243408, 0.3634320795536041, 0.08727999031543732, 0.5749343037605286, 0.40911003947257996, 0.015950297936797142, 0.0011372254230082035, 0.9212947487831116, 0.07754456251859665, 0.9812168478965759, 0.018747719004750252, 0.9999822378158569, 0.8289313912391663, 0.1467324197292328, 0.024330560117959976, 0.0021076009143143892, 0.9976856112480164, 0.9998269081115723, 0.999802827835083, 0.9821447134017944, 0.011185918003320694, 0.006753761786967516, 0.9999160170555115, 0.9997684955596924, 0.10209563374519348, 0.8495281934738159, 0.04836108908057213, 0.0030424671713262796, 0.9967882633209229, 0.9998059272766113, 0.9995595216751099, 0.00043103040661662817, 0.9995595216751099, 0.00043103040661662817, 0.9021623730659485, 0.0932309553027153, 0.004623338580131531, 0.7211783528327942, 0.13854341208934784, 0.14028804004192352], \"Term\": [\"account\", \"account\", \"account\", \"accounts\", \"accounts\", \"accounts\", \"agencies\", \"agencies\", \"agencies\", \"agency\", \"agency\", \"agency\", \"alleged_debt\", \"american_express\", \"amex\", \"amount\", \"amount\", \"amount\", \"annual_fee\", \"appraisal\", \"asked\", \"asked\", \"asked\", \"atm\", \"back\", \"back\", \"back\", \"balance\", \"balance\", \"balance\", \"balance_transfer\", \"bank\", \"bank\", \"bank\", \"bank_america\", \"bank_america\", \"bank_america\", \"bayview\", \"bonus\", \"borrower\", \"borrower\", \"branch\", \"branch\", \"bureaus\", \"caliber\", \"call\", \"call\", \"call\", \"called\", \"called\", \"called\", \"called_customer\", \"called_customer\", \"calling\", \"calling\", \"calling\", \"calls\", \"calls\", \"calls\", \"capital_one\", \"capital_one\", \"capital_one\", \"car\", \"car\", \"car\", \"card\", \"card\", \"card\", \"card number_number card\", \"card number_number card\", \"card number_number card\", \"card number_number inquiry\", \"card_number\", \"card_number\", \"card_number\", \"cards\", \"cards\", \"charge\", \"charge\", \"charge\", \"charged\", \"charged\", \"charged\", \"charges\", \"charges\", \"charges\", \"chase\", \"chase\", \"chase\", \"chase_bank\", \"chase_bank\", \"check\", \"check\", \"check\", \"checking_account\", \"citi\", \"citi\", \"citibank\", \"citibank\", \"close_account\", \"close_account\", \"coinbase\", \"collection\", \"collection\", \"collection\", \"collection_agency\", \"collection_agency\", \"collection_agency\", \"company\", \"company\", \"company\", \"consumer\", \"consumer\", \"consumer\", \"consumer reporting_reporting agency\", \"consumer_reporting\", \"could\", \"could\", \"could\", \"credit\", \"credit\", \"credit\", \"credit report\", \"credit report\", \"credit reporting_reporting act\", \"credit reporting_reporting agencies\", \"credit_bureau\", \"credit_bureau\", \"credit_bureau\", \"credit_bureaus\", \"credit_bureaus\", \"credit_bureaus\", \"credit_file\", \"credit_report\", \"credit_report\", \"credit_report\", \"credit_reporting\", \"credit_reports\", \"credited\", \"credited\", \"creditor\", \"customer\", \"customer\", \"customer\", \"customer_service\", \"customer_service\", \"customer_service\", \"customers\", \"customers\", \"date\", \"date\", \"date\", \"debit_card\", \"debt\", \"debt\", \"debt\", \"deferment\", \"deferment\", \"deleted\", \"deleted\", \"deposit\", \"deposit\", \"deposited\", \"direct_deposit\", \"discover\", \"discover\", \"discover\", \"dispute\", \"dispute\", \"dispute\", \"disputed\", \"disputed\", \"ditech\", \"ditech\", \"due\", \"due\", \"due\", \"due_date\", \"due_date\", \"equifax\", \"escrow\", \"escrow\", \"escrow_account\", \"escrow_account\", \"even\", \"even\", \"even\", \"experian\", \"fair credit_credit reporting\", \"fair_credit\", \"family\", \"family\", \"family\", \"fcra\", \"fee\", \"fee\", \"fees\", \"fees\", \"fees\", \"file\", \"file\", \"file\", \"forbearance\", \"forbearance\", \"foreclosure\", \"foreclosure\", \"funds\", \"funds\", \"get\", \"get\", \"get\", \"going\", \"going\", \"going\", \"help\", \"help\", \"help\", \"home\", \"home\", \"home\", \"home_depot\", \"homeowner\", \"house\", \"house\", \"house\", \"identity_theft\", \"identity_theft\", \"inaccurate\", \"inaccurate\", \"inaccurate\", \"inaccurate_information\", \"income\", \"income\", \"information\", \"information\", \"information\", \"inquiries\", \"inquiry\", \"inquiry\", \"inquiry\", \"inquiry card_card number\", \"insurance\", \"insurance\", \"insurance\", \"investor\", \"issue\", \"issue\", \"issue\", \"late_fee\", \"late_fee\", \"lender\", \"lender\", \"lender\", \"letter\", \"letter\", \"letter\", \"loan\", \"loan\", \"loan\", \"loan_forgiveness\", \"loan_modification\", \"loan_officer\", \"loans\", \"loans\", \"loans\", \"loss_mitigation\", \"made\", \"made\", \"made\", \"merchant\", \"merchant\", \"minimum_payment\", \"modification\", \"money\", \"money\", \"money\", \"mortgage\", \"mortgage\", \"mortgage\", \"mortgage_company\", \"mortgage_company\", \"mr_cooper\", \"name\", \"name\", \"name\", \"nationstar\", \"navient\", \"navient\", \"navy_federal\", \"navy_federal\", \"not\", \"not\", \"not\", \"not_belong\", \"not_mine\", \"not_mine\", \"number\", \"number\", \"number\", \"number card_card number\", \"number card_card number\", \"number card_card number\", \"ocwen\", \"one\", \"one\", \"one\", \"online\", \"online\", \"online\", \"original_creditor\", \"overdraft\", \"overdraft_fees\", \"paid\", \"paid\", \"paid\", \"paperwork\", \"paperwork\", \"paperwork\", \"pay\", \"pay\", \"pay\", \"payment\", \"payment\", \"payment\", \"payments\", \"payments\", \"payments\", \"paypal\", \"please_remove\", \"pmi\", \"program\", \"program\", \"promotion\", \"property\", \"property\", \"property_taxes\", \"purchases\", \"received\", \"received\", \"received\", \"refinance\", \"refinance\", \"refund\", \"refund\", \"removed\", \"removed\", \"removed\", \"removed_credit\", \"repayment_plan\", \"repayment_plan\", \"report\", \"report\", \"report\", \"reported\", \"reported\", \"reported\", \"reporting\", \"reporting\", \"reporting\", \"reporting_act\", \"reports\", \"reports\", \"reports\", \"reversed\", \"reversed\", \"said\", \"said\", \"said\", \"sale\", \"sale\", \"sale\", \"savings_account\", \"school\", \"school\", \"sent\", \"sent\", \"sent\", \"service\", \"service\", \"service\", \"servicer\", \"servicer\", \"servicing\", \"servicing\", \"servicing\", \"seterus\", \"shellpoint\", \"short_sale\", \"since\", \"since\", \"since\", \"sls\", \"stated\", \"stated\", \"stated\", \"statement\", \"statement\", \"statement\", \"still\", \"still\", \"still\", \"store\", \"store\", \"store\", \"student_loan\", \"student_loan\", \"student_loan\", \"taxes\", \"taxes\", \"taxes\", \"td_bank\", \"teller\", \"three_credit\", \"time\", \"time\", \"time\", \"told\", \"told\", \"told\", \"transaction\", \"transaction\", \"transaction\", \"transactions\", \"transactions\", \"transunion\", \"us\", \"us\", \"us\", \"usaa\", \"usaa\", \"usd\", \"validation\", \"vehicle\", \"vehicle\", \"vehicle\", \"victim_identity\", \"wallet\", \"website\", \"website\", \"website\", \"wire\", \"wire\", \"wire_transfer\", \"without understanding\", \"without understanding\", \"without_understanding\", \"without_understanding\", \"work\", \"work\", \"work\", \"years\", \"years\", \"years\"]}, \"R\": 30, \"lambda.step\": 0.01, \"plot.opts\": {\"xlab\": \"PC1\", \"ylab\": \"PC2\"}, \"topic.order\": [1, 3, 2]};\n",
       "\n",
       "function LDAvis_load_lib(url, callback){\n",
       "  var s = document.createElement('script');\n",
       "  s.src = url;\n",
       "  s.async = true;\n",
       "  s.onreadystatechange = s.onload = callback;\n",
       "  s.onerror = function(){console.warn(\"failed to load library \" + url);};\n",
       "  document.getElementsByTagName(\"head\")[0].appendChild(s);\n",
       "}\n",
       "\n",
       "if(typeof(LDAvis) !== \"undefined\"){\n",
       "   // already loaded: just create the visualization\n",
       "   !function(LDAvis){\n",
       "       new LDAvis(\"#\" + \"ldavis_el20410103174630084580724751\", ldavis_el20410103174630084580724751_data);\n",
       "   }(LDAvis);\n",
       "}else if(typeof define === \"function\" && define.amd){\n",
       "   // require.js is available: use it to load d3/LDAvis\n",
       "   require.config({paths: {d3: \"https://cdnjs.cloudflare.com/ajax/libs/d3/3.5.5/d3.min\"}});\n",
       "   require([\"d3\"], function(d3){\n",
       "      window.d3 = d3;\n",
       "      LDAvis_load_lib(\"https://cdn.rawgit.com/bmabey/pyLDAvis/files/ldavis.v1.0.0.js\", function(){\n",
       "        new LDAvis(\"#\" + \"ldavis_el20410103174630084580724751\", ldavis_el20410103174630084580724751_data);\n",
       "      });\n",
       "    });\n",
       "}else{\n",
       "    // require.js not available: dynamically load d3 & LDAvis\n",
       "    LDAvis_load_lib(\"https://cdnjs.cloudflare.com/ajax/libs/d3/3.5.5/d3.min.js\", function(){\n",
       "         LDAvis_load_lib(\"https://cdn.rawgit.com/bmabey/pyLDAvis/files/ldavis.v1.0.0.js\", function(){\n",
       "                 new LDAvis(\"#\" + \"ldavis_el20410103174630084580724751\", ldavis_el20410103174630084580724751_data);\n",
       "            })\n",
       "         });\n",
       "}\n",
       "</script>"
      ],
      "text/plain": [
       "PreparedData(topic_coordinates=            Freq  cluster  topics         x         y\n",
       "topic                                                \n",
       "0      40.676273        1       1 -0.115309  0.133795\n",
       "2      33.718109        1       2 -0.116337 -0.133400\n",
       "1      25.605619        1       3  0.231646 -0.000395, topic_info=     Category           Freq                     Term          Total  loglift  \\\n",
       "term                                                                            \n",
       "67    Default  704655.000000              card_number  704655.000000  30.0000   \n",
       "248   Default  263354.000000                  account  263354.000000  29.0000   \n",
       "136   Default  119703.000000                     loan  119703.000000  28.0000   \n",
       "521   Default  125629.000000  number card_card number  125629.000000  27.0000   \n",
       "2     Default   70757.000000            credit_report   70757.000000  26.0000   \n",
       "1052  Default   92489.000000                     card   92489.000000  25.0000   \n",
       "424   Default   82903.000000  card number_number card   82903.000000  24.0000   \n",
       "1205  Default   60019.000000                   report   60019.000000  23.0000   \n",
       "384   Default   70306.000000                     debt   70306.000000  22.0000   \n",
       "44    Default   79094.000000                     bank   79094.000000  21.0000   \n",
       "1166  Default  121756.000000                   credit  121756.000000  20.0000   \n",
       "5     Default  104841.000000              information  104841.000000  19.0000   \n",
       "668   Default   58736.000000                 mortgage   58736.000000  18.0000   \n",
       "2160  Default   31558.000000                reporting   31558.000000  17.0000   \n",
       "892   Default   27485.000000                  equifax   27485.000000  16.0000   \n",
       "178   Default  118688.000000                  payment  118688.000000  15.0000   \n",
       "871   Default   43868.000000                 accounts   43868.000000  14.0000   \n",
       "1552  Default   30703.000000                 reported   30703.000000  13.0000   \n",
       "271   Default   35758.000000                  dispute   35758.000000  12.0000   \n",
       "280   Default   20256.000000                 experian   20256.000000  11.0000   \n",
       "1257  Default   22109.000000               collection   22109.000000  10.0000   \n",
       "762   Default   35103.000000                     home   35103.000000   9.0000   \n",
       "238   Default  125765.000000                     told  125765.000000   8.0000   \n",
       "68    Default   34377.000000                    check   34377.000000   7.0000   \n",
       "2132  Default   18836.000000           credit_bureaus   18836.000000   6.0000   \n",
       "8191  Default   17167.000000               transunion   17167.000000   5.0000   \n",
       "1711  Default   18477.000000                  inquiry   18477.000000   4.0000   \n",
       "141   Default   27132.000000                    loans   27132.000000   3.0000   \n",
       "3     Default   16548.000000         credit_reporting   16548.000000   2.0000   \n",
       "989   Default   60366.000000                 payments   60366.000000   1.0000   \n",
       "...       ...            ...                      ...            ...      ...   \n",
       "1678   Topic3    5748.951660                 not_mine    5758.137695   1.3608   \n",
       "4836   Topic3   11657.565430                 agencies   11783.855469   1.3516   \n",
       "4228   Topic3    4077.622803            credit report    4078.889404   1.3620   \n",
       "1205   Topic3   57777.859375                   report   60019.234375   1.3243   \n",
       "1711   Topic3   17989.068359                  inquiry   18477.738281   1.3356   \n",
       "1356   Topic3    5858.257812               inaccurate    5901.209473   1.3551   \n",
       "1257   Topic3   21286.673828               collection   22109.570312   1.3244   \n",
       "2192   Topic3   11034.856445        collection_agency   11321.484375   1.3367   \n",
       "884    Topic3    9955.364258            credit_bureau   10208.649414   1.3372   \n",
       "424    Topic3   74100.359375  card number_number card   82903.796875   1.2501   \n",
       "521    Topic3  100440.429688  number card_card number  125629.328125   1.1386   \n",
       "384    Topic3   57116.710938                     debt   70306.015625   1.1546   \n",
       "1552   Topic3   26125.687500                 reported   30703.113281   1.2009   \n",
       "4117   Topic3   13471.768555                   agency   15082.300781   1.2494   \n",
       "67     Topic3  392558.625000              card_number  704655.625000   0.7773   \n",
       "5      Topic3   70220.140625              information  104841.625000   0.9615   \n",
       "271    Topic3   26841.605469                  dispute   35758.640625   1.0755   \n",
       "16     Topic3   17636.679688                  removed   21809.982422   1.1500   \n",
       "871    Topic3   31007.587891                 accounts   43868.406250   1.0154   \n",
       "86     Topic3   18088.355469                 consumer   22664.585938   1.1368   \n",
       "248    Topic3   99011.226562                  account  263354.718750   0.3841   \n",
       "9      Topic3  117203.640625                      not  465723.375000  -0.0173   \n",
       "722    Topic3   43358.628906                  company   98859.109375   0.5382   \n",
       "1166   Topic3   39728.125000                   credit  121756.210938   0.2424   \n",
       "520    Topic3   29994.656250                   number   80008.781250   0.3812   \n",
       "311    Topic3   21521.144531                   letter   46891.714844   0.5836   \n",
       "211    Topic3   25707.677734                     sent   77693.992188   0.2564   \n",
       "264    Topic3   19174.968750                     date   37787.789062   0.6840   \n",
       "751    Topic3   16216.126953                     file   25744.953125   0.9001   \n",
       "516    Topic3   17981.414062                     name   37259.992188   0.6338   \n",
       "\n",
       "      logprob  \n",
       "term           \n",
       "67    30.0000  \n",
       "248   29.0000  \n",
       "136   28.0000  \n",
       "521   27.0000  \n",
       "2     26.0000  \n",
       "1052  25.0000  \n",
       "424   24.0000  \n",
       "1205  23.0000  \n",
       "384   22.0000  \n",
       "44    21.0000  \n",
       "1166  20.0000  \n",
       "5     19.0000  \n",
       "668   18.0000  \n",
       "2160  17.0000  \n",
       "892   16.0000  \n",
       "178   15.0000  \n",
       "871   14.0000  \n",
       "1552  13.0000  \n",
       "271   12.0000  \n",
       "280   11.0000  \n",
       "1257  10.0000  \n",
       "762    9.0000  \n",
       "238    8.0000  \n",
       "68     7.0000  \n",
       "2132   6.0000  \n",
       "8191   5.0000  \n",
       "1711   4.0000  \n",
       "141    3.0000  \n",
       "3      2.0000  \n",
       "989    1.0000  \n",
       "...       ...  \n",
       "1678  -7.3808  \n",
       "4836  -6.6739  \n",
       "4228  -7.7243  \n",
       "1205  -5.0732  \n",
       "1711  -6.2401  \n",
       "1356  -7.3620  \n",
       "1257  -6.0717  \n",
       "2192  -6.7288  \n",
       "884   -6.8317  \n",
       "424   -4.8244  \n",
       "521   -4.5203  \n",
       "384   -5.0847  \n",
       "1552  -5.8669  \n",
       "4117  -6.5292  \n",
       "67    -3.1571  \n",
       "5     -4.8782  \n",
       "271   -5.8399  \n",
       "16    -6.2598  \n",
       "871   -5.6956  \n",
       "86    -6.2346  \n",
       "248   -4.5346  \n",
       "9     -4.3659  \n",
       "722   -5.3603  \n",
       "1166  -5.4478  \n",
       "520   -5.7288  \n",
       "311   -6.0608  \n",
       "211   -5.8830  \n",
       "264   -6.1762  \n",
       "751   -6.3438  \n",
       "516   -6.2405  \n",
       "\n",
       "[269 rows x 6 columns], token_table=        Topic      Freq                   Term\n",
       "term                                          \n",
       "248         1  0.000558                account\n",
       "248         2  0.623482                account\n",
       "248         3  0.375961                account\n",
       "871         1  0.000068               accounts\n",
       "871         2  0.293104               accounts\n",
       "871         3  0.706841               accounts\n",
       "4836        1  0.005431               agencies\n",
       "4836        2  0.005261               agencies\n",
       "4836        3  0.989320               agencies\n",
       "4117        1  0.101709                 agency\n",
       "4117        2  0.005105                 agency\n",
       "4117        3  0.893232                 agency\n",
       "4370        3  0.999947           alleged_debt\n",
       "2064        2  0.999868       american_express\n",
       "22104       2  0.999843                   amex\n",
       "28          1  0.416293                 amount\n",
       "28          2  0.414041                 amount\n",
       "28          3  0.169661                 amount\n",
       "14744       2  0.999548             annual_fee\n",
       "22299       1  0.999889              appraisal\n",
       "36          1  0.561854                  asked\n",
       "36          2  0.317046                  asked\n",
       "36          3  0.121106                  asked\n",
       "7850        2  0.999900                    atm\n",
       "614         1  0.512668                   back\n",
       "614         2  0.372579                   back\n",
       "614         3  0.114752                   back\n",
       "1237        1  0.058654                balance\n",
       "1237        2  0.726132                balance\n",
       "1237        3  0.215219                balance\n",
       "...       ...       ...                    ...\n",
       "3454        3  0.018748           transactions\n",
       "8191        3  0.999982             transunion\n",
       "1146        1  0.828931                     us\n",
       "1146        2  0.146732                     us\n",
       "1146        3  0.024331                     us\n",
       "7077        1  0.002108                   usaa\n",
       "7077        2  0.997686                   usaa\n",
       "15077       2  0.999827                    usd\n",
       "7155        3  0.999803             validation\n",
       "4827        1  0.982145                vehicle\n",
       "4827        2  0.011186                vehicle\n",
       "4827        3  0.006754                vehicle\n",
       "6243        3  0.999916        victim_identity\n",
       "20955       2  0.999768                 wallet\n",
       "1029        1  0.102096                website\n",
       "1029        2  0.849528                website\n",
       "1029        3  0.048361                website\n",
       "28129       1  0.003042                   wire\n",
       "28129       2  0.996788                   wire\n",
       "16723       2  0.999806          wire_transfer\n",
       "242963      1  0.999560  without understanding\n",
       "242963      3  0.000431  without understanding\n",
       "242964      1  0.999560  without_understanding\n",
       "242964      3  0.000431  without_understanding\n",
       "2057        1  0.902162                   work\n",
       "2057        2  0.093231                   work\n",
       "2057        3  0.004623                   work\n",
       "867         1  0.721178                  years\n",
       "867         2  0.138543                  years\n",
       "867         3  0.140288                  years\n",
       "\n",
       "[453 rows x 3 columns], R=30, lambda_step=0.01, plot_opts={'xlab': 'PC1', 'ylab': 'PC2'}, topic_order=[1, 3, 2])"
      ]
     },
     "execution_count": 96,
     "metadata": {},
     "output_type": "execute_result"
    },
    {
     "data": {
      "text/plain": [
       "<Figure size 720x576 with 0 Axes>"
      ]
     },
     "metadata": {},
     "output_type": "display_data"
    }
   ],
   "source": [
    "plt.figure(figsize=(10,8))\n",
    "p"
   ]
  },
  {
   "cell_type": "code",
   "execution_count": 94,
   "metadata": {},
   "outputs": [],
   "source": [
    "pyLDAvis.save_html(p, 'lda_for_Consumer_complaint_narrative.html')"
   ]
  },
  {
   "cell_type": "code",
   "execution_count": 110,
   "metadata": {},
   "outputs": [
    {
     "data": {
      "text/html": [
       "<div>\n",
       "<style scoped>\n",
       "    .dataframe tbody tr th:only-of-type {\n",
       "        vertical-align: middle;\n",
       "    }\n",
       "\n",
       "    .dataframe tbody tr th {\n",
       "        vertical-align: top;\n",
       "    }\n",
       "\n",
       "    .dataframe thead th {\n",
       "        text-align: right;\n",
       "    }\n",
       "</style>\n",
       "<table border=\"1\" class=\"dataframe\">\n",
       "  <thead>\n",
       "    <tr style=\"text-align: right;\">\n",
       "      <th></th>\n",
       "      <th>Complaint_ID</th>\n",
       "      <th>Consumer</th>\n",
       "      <th>clean_Consumer</th>\n",
       "      <th>Date_received</th>\n",
       "    </tr>\n",
       "  </thead>\n",
       "  <tbody>\n",
       "    <tr>\n",
       "      <th>0</th>\n",
       "      <td>2141773</td>\n",
       "      <td>I have outdated information on my credit repor...</td>\n",
       "      <td>outdated information credit report previously ...</td>\n",
       "      <td>10/01/2016</td>\n",
       "    </tr>\n",
       "    <tr>\n",
       "      <th>1</th>\n",
       "      <td>2163100</td>\n",
       "      <td>I purchased a new car on XXXX XXXX. The car de...</td>\n",
       "      <td>purchased new car card number car dealer calle...</td>\n",
       "      <td>10/17/2016</td>\n",
       "    </tr>\n",
       "    <tr>\n",
       "      <th>2</th>\n",
       "      <td>1420702</td>\n",
       "      <td>An account on my credit report has a mistaken ...</td>\n",
       "      <td>account credit report mistaken date mailed deb...</td>\n",
       "      <td>06/15/2015</td>\n",
       "    </tr>\n",
       "    <tr>\n",
       "      <th>3</th>\n",
       "      <td>1772196</td>\n",
       "      <td>This company refuses to provide me verificatio...</td>\n",
       "      <td>company refuses provide verification validatio...</td>\n",
       "      <td>02/03/2016</td>\n",
       "    </tr>\n",
       "    <tr>\n",
       "      <th>4</th>\n",
       "      <td>1790634</td>\n",
       "      <td>This complaint is in regards to Square Two Fin...</td>\n",
       "      <td>complaint regards square two financial refer c...</td>\n",
       "      <td>02/17/2016</td>\n",
       "    </tr>\n",
       "  </tbody>\n",
       "</table>\n",
       "</div>"
      ],
      "text/plain": [
       "   Complaint_ID                                           Consumer  \\\n",
       "0       2141773  I have outdated information on my credit repor...   \n",
       "1       2163100  I purchased a new car on XXXX XXXX. The car de...   \n",
       "2       1420702  An account on my credit report has a mistaken ...   \n",
       "3       1772196  This company refuses to provide me verificatio...   \n",
       "4       1790634  This complaint is in regards to Square Two Fin...   \n",
       "\n",
       "                                      clean_Consumer Date_received  \n",
       "0  outdated information credit report previously ...    10/01/2016  \n",
       "1  purchased new car card number car dealer calle...    10/17/2016  \n",
       "2  account credit report mistaken date mailed deb...    06/15/2015  \n",
       "3  company refuses provide verification validatio...    02/03/2016  \n",
       "4  complaint regards square two financial refer c...    02/17/2016  "
      ]
     },
     "execution_count": 110,
     "metadata": {},
     "output_type": "execute_result"
    }
   ],
   "source": [
    "df.head()"
   ]
  },
  {
   "cell_type": "code",
   "execution_count": null,
   "metadata": {},
   "outputs": [],
   "source": []
  },
  {
   "cell_type": "code",
   "execution_count": null,
   "metadata": {},
   "outputs": [],
   "source": []
  }
 ],
 "metadata": {
  "kernelspec": {
   "display_name": "Python 3",
   "language": "python",
   "name": "python3"
  },
  "language_info": {
   "codemirror_mode": {
    "name": "ipython",
    "version": 3
   },
   "file_extension": ".py",
   "mimetype": "text/x-python",
   "name": "python",
   "nbconvert_exporter": "python",
   "pygments_lexer": "ipython3",
   "version": "3.6.8"
  }
 },
 "nbformat": 4,
 "nbformat_minor": 2
}
